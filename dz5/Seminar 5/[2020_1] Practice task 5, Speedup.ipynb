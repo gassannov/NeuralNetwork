{
 "cells": [
  {
   "cell_type": "markdown",
   "metadata": {
    "id": "bn27NI7zaf9Z"
   },
   "source": [
    "## Семинар 5: \"Улучшение сходимости нейросетей\""
   ]
  },
  {
   "cell_type": "markdown",
   "metadata": {
    "id": "kY9vse7waf9b"
   },
   "source": [
    "ФИО:"
   ]
  },
  {
   "cell_type": "code",
   "execution_count": 1,
   "metadata": {
    "executionInfo": {
     "elapsed": 1357,
     "status": "ok",
     "timestamp": 1602204244049,
     "user": {
      "displayName": "Данила Байгушев",
      "photoUrl": "",
      "userId": "06862651594233453127"
     },
     "user_tz": -180
    },
    "id": "JdEAkdunaf9d"
   },
   "outputs": [],
   "source": [
    "import numpy as np\n",
    "from sklearn.model_selection import train_test_split\n",
    "import matplotlib.pyplot as plt\n",
    "import torch\n",
    "from torch import nn\n",
    "import torch.nn.functional as F\n",
    "from torch.autograd import Variable\n",
    "from torch.utils.data import DataLoader\n",
    "from torchvision.datasets import MNIST\n",
    "from torchvision import transforms\n",
    "%matplotlib inline"
   ]
  },
  {
   "cell_type": "markdown",
   "metadata": {
    "id": "iIgr4r2Haf9l"
   },
   "source": [
    "На этом семинаре мы попробуем улучшить результаты, полученные на предыдущем занятии\n",
    "Для этого нам понадобятся следующие вещи:\n",
    "* Dropout\n",
    "* Batch Normalization\n",
    "* Инициализация весов"
   ]
  },
  {
   "cell_type": "markdown",
   "metadata": {
    "id": "CZHtxmbUaf9m"
   },
   "source": [
    "### Часть 1: Инициализация весов"
   ]
  },
  {
   "cell_type": "markdown",
   "metadata": {
    "id": "W8dhNr-faf9n"
   },
   "source": [
    "На лекции доказывалось, что при инициализации He и Glorot дисперсия активаций градиентов в каждом слое будут примерно равны. Давайте проверим это. "
   ]
  },
  {
   "cell_type": "code",
   "execution_count": 2,
   "metadata": {
    "executionInfo": {
     "elapsed": 638,
     "status": "ok",
     "timestamp": 1602204245453,
     "user": {
      "displayName": "Данила Байгушев",
      "photoUrl": "",
      "userId": "06862651594233453127"
     },
     "user_tz": -180
    },
    "id": "216zZRJAaf9o"
   },
   "outputs": [
    {
     "name": "stdout",
     "output_type": "stream",
     "text": [
      "Downloading http://yann.lecun.com/exdb/mnist/train-images-idx3-ubyte.gz\n",
      "Downloading http://yann.lecun.com/exdb/mnist/train-images-idx3-ubyte.gz to ./MNIST/raw/train-images-idx3-ubyte.gz\n"
     ]
    },
    {
     "data": {
      "text/plain": "  0%|          | 0/9912422 [00:00<?, ?it/s]",
      "application/vnd.jupyter.widget-view+json": {
       "version_major": 2,
       "version_minor": 0,
       "model_id": "84e0e71429984938b73a105e9dc6be35"
      }
     },
     "metadata": {},
     "output_type": "display_data"
    },
    {
     "name": "stdout",
     "output_type": "stream",
     "text": [
      "Extracting ./MNIST/raw/train-images-idx3-ubyte.gz to ./MNIST/raw\n",
      "\n",
      "Downloading http://yann.lecun.com/exdb/mnist/train-labels-idx1-ubyte.gz\n",
      "Downloading http://yann.lecun.com/exdb/mnist/train-labels-idx1-ubyte.gz to ./MNIST/raw/train-labels-idx1-ubyte.gz\n"
     ]
    },
    {
     "data": {
      "text/plain": "  0%|          | 0/28881 [00:00<?, ?it/s]",
      "application/vnd.jupyter.widget-view+json": {
       "version_major": 2,
       "version_minor": 0,
       "model_id": "71758983632b4ea0ab8dad07cddafefa"
      }
     },
     "metadata": {},
     "output_type": "display_data"
    },
    {
     "name": "stdout",
     "output_type": "stream",
     "text": [
      "Extracting ./MNIST/raw/train-labels-idx1-ubyte.gz to ./MNIST/raw\n",
      "\n",
      "Downloading http://yann.lecun.com/exdb/mnist/t10k-images-idx3-ubyte.gz\n",
      "Downloading http://yann.lecun.com/exdb/mnist/t10k-images-idx3-ubyte.gz to ./MNIST/raw/t10k-images-idx3-ubyte.gz\n"
     ]
    },
    {
     "data": {
      "text/plain": "  0%|          | 0/1648877 [00:00<?, ?it/s]",
      "application/vnd.jupyter.widget-view+json": {
       "version_major": 2,
       "version_minor": 0,
       "model_id": "22b284d1d9244014a5110a0712ebc8f4"
      }
     },
     "metadata": {},
     "output_type": "display_data"
    },
    {
     "name": "stdout",
     "output_type": "stream",
     "text": [
      "Extracting ./MNIST/raw/t10k-images-idx3-ubyte.gz to ./MNIST/raw\n",
      "\n",
      "Downloading http://yann.lecun.com/exdb/mnist/t10k-labels-idx1-ubyte.gz\n",
      "Downloading http://yann.lecun.com/exdb/mnist/t10k-labels-idx1-ubyte.gz to ./MNIST/raw/t10k-labels-idx1-ubyte.gz\n"
     ]
    },
    {
     "data": {
      "text/plain": "  0%|          | 0/4542 [00:00<?, ?it/s]",
      "application/vnd.jupyter.widget-view+json": {
       "version_major": 2,
       "version_minor": 0,
       "model_id": "e32e566033e34e9f860135225aec0197"
      }
     },
     "metadata": {},
     "output_type": "display_data"
    },
    {
     "name": "stdout",
     "output_type": "stream",
     "text": [
      "Extracting ./MNIST/raw/t10k-labels-idx1-ubyte.gz to ./MNIST/raw\n",
      "\n"
     ]
    }
   ],
   "source": [
    "# Dataloader\n",
    "to_numpy = lambda x: x.numpy()\n",
    "transform = transforms.Compose([\n",
    "                       transforms.ToTensor(),\n",
    "                       transforms.Normalize((0.1307,), (0.3081,))\n",
    "                    ])\n",
    "train_dataset = MNIST('.', train=True, download=True, transform=transform)\n",
    "test_dataset = MNIST('.', train=False, transform=transform)\n",
    "\n",
    "train_loader = DataLoader(train_dataset, batch_size=128, shuffle=True)\n",
    "test_loader = DataLoader(test_dataset, batch_size=128, shuffle=True)"
   ]
  },
  {
   "cell_type": "code",
   "execution_count": 4,
   "metadata": {
    "executionInfo": {
     "elapsed": 1044,
     "status": "ok",
     "timestamp": 1602204248730,
     "user": {
      "displayName": "Данила Байгушев",
      "photoUrl": "",
      "userId": "06862651594233453127"
     },
     "user_tz": -180
    },
    "id": "EqpqV_pVaf9t"
   },
   "outputs": [],
   "source": [
    "images_train, labels_train = next(iter(train_loader))"
   ]
  },
  {
   "cell_type": "code",
   "execution_count": 5,
   "metadata": {
    "executionInfo": {
     "elapsed": 8672,
     "status": "ok",
     "timestamp": 1602204258260,
     "user": {
      "displayName": "Данила Байгушев",
      "photoUrl": "",
      "userId": "06862651594233453127"
     },
     "user_tz": -180
    },
    "id": "agAN6Tyfaf9x"
   },
   "outputs": [],
   "source": [
    "## Usage example:\n",
    "for X, y in train_loader:\n",
    "    X = X.view(X.size(0), -1)\n",
    "    X = X.numpy() ### Converts torch.Tensor to numpy array\n",
    "    y = y.numpy()\n",
    "    pass"
   ]
  },
  {
   "cell_type": "code",
   "execution_count": 6,
   "metadata": {
    "colab": {
     "base_uri": "https://localhost:8080/",
     "height": 420
    },
    "executionInfo": {
     "elapsed": 8767,
     "status": "ok",
     "timestamp": 1602204259023,
     "user": {
      "displayName": "Данила Байгушев",
      "photoUrl": "",
      "userId": "06862651594233453127"
     },
     "user_tz": -180
    },
    "id": "71k9eU4Caf91",
    "outputId": "d056f30d-d7cf-4128-8736-5a83d5511445"
   },
   "outputs": [
    {
     "data": {
      "text/plain": "<Figure size 432x504 with 25 Axes>",
      "image/png": "[encoded data removed]"
     },
     "metadata": {
      "needs_background": "light"
     },
     "output_type": "display_data"
    }
   ],
   "source": [
    "plt.figure(figsize=(6, 7))\n",
    "for i in range(25):\n",
    "    plt.subplot(5, 5, i+1)\n",
    "    plt.imshow(X[i].reshape(28, 28), cmap=plt.cm.Greys_r)\n",
    "    plt.title(y[i])\n",
    "    plt.axis('off')"
   ]
  },
  {
   "cell_type": "markdown",
   "metadata": {
    "id": "CjxGvxs8af98"
   },
   "source": [
    "<i> 1.1 </i> Инициализируйте полносвязную сеть нормальным шумом N(0, 0.1) с архитектурой 784 -> 500 x (10 раз) -> 10. В качестве активации возьмите tanh"
   ]
  },
  {
   "cell_type": "code",
   "execution_count": 7,
   "metadata": {
    "executionInfo": {
     "elapsed": 6511,
     "status": "ok",
     "timestamp": 1602204259025,
     "user": {
      "displayName": "Данила Байгушев",
      "photoUrl": "",
      "userId": "06862651594233453127"
     },
     "user_tz": -180
    },
    "id": "DgCP_qclaf99"
   },
   "outputs": [],
   "source": [
    "def init_layer(layer, mean=0, std=1):\n",
    "    # Тут надо быть аккуратным — можно случайно создать копию и менять значения у копии\n",
    "    weight = layer.state_dict()['weight']\n",
    "    bias = layer.state_dict()['bias']\n",
    "    bias.zero_()\n",
    "    #1 - веса сети\n",
    "    #2 - нули ...\n",
    "    #bias = torch.zeros_like(bias)\n",
    "    weight.normal_(mean=0, std=std)\n",
    "\n",
    "def forward_hook(self, input_, output):\n",
    "    std = input_[0].std().item()\n",
    "    print('forward', std)\n",
    "\n",
    "def backward_hook(self, grad_input, grad_output):\n",
    "    std = grad_input[0].std().item()\n",
    "    print('backward', std)\n",
    "\n",
    "    \n",
    "# пример:\n",
    "layer = nn.Linear(28*28, 10)\n",
    "layer.register_forward_hook(forward_hook)\n",
    "layer.register_backward_hook(backward_hook)\n",
    "init_layer(layer, 0.0, 0.1) # сюда надо подставить другие параметры"
   ]
  },
  {
   "cell_type": "code",
   "execution_count": 8,
   "metadata": {
    "colab": {
     "base_uri": "https://localhost:8080/",
     "height": 35
    },
    "executionInfo": {
     "elapsed": 5647,
     "status": "ok",
     "timestamp": 1602204259027,
     "user": {
      "displayName": "Данила Байгушев",
      "photoUrl": "",
      "userId": "06862651594233453127"
     },
     "user_tz": -180
    },
    "id": "roslMRZRaf-C",
    "outputId": "868e8bb3-e2bb-4ebc-da96-31021f57beb1"
   },
   "outputs": [
    {
     "name": "stdout",
     "output_type": "stream",
     "text": [
      "66\n"
     ]
    }
   ],
   "source": [
    "sizes = [28*28, 64, 32] + [16] * 30 + [10]\n",
    "layers = []\n",
    "\n",
    "def normal(size_input, size_output):\n",
    "    return 0.1\n",
    "    #return 1\n",
    "\n",
    "def xavier(size_input, size_output):\n",
    "    d = 2 / (size_input + size_output)\n",
    "    return np.sqrt(d)\n",
    "\n",
    "def good_grad(size_input, size_output):\n",
    "    d = 1 / size_output\n",
    "    return np.sqrt(d)\n",
    "\n",
    "#init_func = normal\n",
    "init_func = xavier\n",
    "#init_func = good_grad\n",
    "\n",
    "for size_input, size_output in zip(sizes, sizes[1:]):\n",
    "    \n",
    "    layer = nn.Linear(size_input, size_output)\n",
    "    layer.register_forward_hook(forward_hook)\n",
    "    layer.register_backward_hook(backward_hook)\n",
    "    init_layer(layer, 0.0, init_func(size_input, size_output)) # сюда надо подставить другие параметры\n",
    "    \n",
    "    layers.append(layer)\n",
    "    #layers.append(nn.Tanh())\n",
    "    #layers.append(nn.Sigmoid())\n",
    "    layers.append(nn.ReLU())\n",
    "    \n",
    "print(len(layers))\n",
    "del layers[-1]"
   ]
  },
  {
   "cell_type": "markdown",
   "metadata": {
    "id": "SsjtA7N_af-G"
   },
   "source": [
    "<i>1.2 Пропустите батч изображений через нейронную сеть и вычислите дисперсию активаций. Затем вычислите градиент и получите дисперсию градиентов. Сравните эти значения между собой для разных слоев.</i>"
   ]
  },
  {
   "cell_type": "code",
   "execution_count": 9,
   "metadata": {
    "colab": {
     "base_uri": "https://localhost:8080/",
     "height": 1000
    },
    "executionInfo": {
     "elapsed": 3872,
     "status": "ok",
     "timestamp": 1602204259406,
     "user": {
      "displayName": "Данила Байгушев",
      "photoUrl": "",
      "userId": "06862651594233453127"
     },
     "user_tz": -180
    },
    "id": "7Ri1Tvuyaf-K",
    "outputId": "e668298a-0f3e-4dbb-bbe5-84ab7346b44d",
    "scrolled": true
   },
   "outputs": [
    {
     "name": "stdout",
     "output_type": "stream",
     "text": [
      "forward 1.006492018699646\n",
      "forward 0.8549782633781433\n",
      "forward 0.7152946591377258\n",
      "forward 0.7152092456817627\n",
      "forward 0.34296444058418274\n",
      "forward 0.2478121668100357\n",
      "forward 0.11301133781671524\n",
      "forward 0.06547876447439194\n",
      "forward 0.03833198547363281\n",
      "forward 0.02497808262705803\n",
      "forward 0.018402287736535072\n",
      "forward 0.011879505589604378\n",
      "forward 0.00413919473066926\n",
      "forward 0.0023424688261002302\n",
      "forward 0.0013719939161092043\n",
      "forward 0.0011525318259373307\n",
      "forward 0.0006323986453935504\n",
      "forward 0.00031503778882324696\n",
      "forward 0.0003125632065348327\n",
      "forward 0.0001631382037885487\n",
      "forward 0.00013370852684602141\n",
      "forward 9.685508848633617e-05\n",
      "forward 4.1018320189323276e-05\n",
      "forward 4.060995706822723e-05\n",
      "forward 3.731105971382931e-05\n",
      "forward 3.348787868162617e-05\n",
      "forward 2.430662243568804e-05\n",
      "forward 1.1904774510185234e-05\n",
      "forward 9.499196494289208e-06\n",
      "forward 6.266568561841268e-06\n",
      "forward 3.4708787097770255e-06\n",
      "forward 2.098907771141967e-06\n",
      "forward 1.3508432630260359e-06\n",
      "backward 0.03299831598997116\n",
      "backward 0.06979935616254807\n",
      "backward 0.04246767237782478\n",
      "backward 0.04029720276594162\n",
      "backward 0.026928476989269257\n",
      "backward 0.017549142241477966\n",
      "backward 0.008706634864211082\n",
      "backward 0.00546581856906414\n",
      "backward 0.0038118890952318907\n",
      "backward 0.002624969696626067\n",
      "backward 0.0017631261143833399\n",
      "backward 0.001062070019543171\n",
      "backward 0.0005900964606553316\n",
      "backward 0.0004616987134795636\n",
      "backward 0.0003080705355387181\n",
      "backward 0.00018434785306453705\n",
      "backward 6.991683039814234e-05\n",
      "backward 6.561233749380335e-05\n",
      "backward 6.98314979672432e-05\n",
      "backward 3.5413424484431744e-05\n",
      "backward 2.3750220861984417e-05\n",
      "backward 1.164876448456198e-05\n",
      "backward 6.7388100433163345e-06\n",
      "backward 5.360383056540741e-06\n",
      "backward 2.450448164381669e-06\n",
      "backward 1.2301678680159966e-06\n",
      "backward 1.0685490678952192e-06\n",
      "backward 5.749382125941338e-07\n",
      "backward 3.9770699800101283e-07\n",
      "backward 2.2353198403379793e-07\n",
      "backward 1.3595169434665877e-07\n",
      "backward 7.973152094109537e-08\n",
      "backward 4.9714554251067966e-08\n"
     ]
    },
    {
     "name": "stderr",
     "output_type": "stream",
     "text": [
      "/Users/maratgasanov/opt/anaconda3/lib/python3.9/site-packages/torch/nn/modules/module.py:1025: UserWarning: Using a non-full backward hook when the forward contains multiple autograd Nodes is deprecated and will be removed in future versions. This hook will be missing some grad_input. Please use register_full_backward_hook to get the documented behavior.\n",
      "  warnings.warn(\"Using a non-full backward hook when the forward contains multiple autograd Nodes \"\n"
     ]
    }
   ],
   "source": [
    "network = nn.Sequential(*layers)\n",
    "\n",
    "#пример:\n",
    "n_objects = 100\n",
    "X = images_train[:n_objects].view(n_objects, -1).data\n",
    "y = labels_train[:n_objects].data\n",
    "activations = network(X)\n",
    "loss_fn = torch.nn.NLLLoss()\n",
    "optimizer = torch.optim.Adam(network.parameters(), lr=0.001) \n",
    "loss = loss_fn(activations, y)\n",
    "loss.backward()"
   ]
  },
  {
   "cell_type": "markdown",
   "metadata": {
    "id": "aUJG1Dbqaf-R"
   },
   "source": [
    "<i>1.3 Повторите эксперимент для инициализаций He и Xavier (формулы есть в лекции).</i>"
   ]
  },
  {
   "cell_type": "code",
   "execution_count": null,
   "metadata": {
    "id": "FyD1lPKwaf-T"
   },
   "outputs": [],
   "source": [
    "##### YOUR CODE HERE #####"
   ]
  },
  {
   "cell_type": "markdown",
   "metadata": {
    "id": "7U2YSSw5af-Y"
   },
   "source": [
    "<i> 1.4 Сделайте выводы по первой части </i>"
   ]
  },
  {
   "cell_type": "markdown",
   "metadata": {
    "id": "NBQ7o-hjaf-a"
   },
   "source": []
  },
  {
   "cell_type": "markdown",
   "metadata": {
    "id": "4kYx-hwLaf-b"
   },
   "source": [
    "### Часть 2: Dropout"
   ]
  },
  {
   "cell_type": "markdown",
   "metadata": {
    "id": "mDoy5_yEaf-c"
   },
   "source": [
    "Другим полезным слоем является Dropout. В нем с вероятностью 1-p зануляется выход каждого нейрона. Этот слой уже реализован в pyTorch, поэтому вновь реализовывать его не интересно. Давайте реализуем DropConnect — аналог Dropout. В нем с вероятностью 1-p зануляется каждый вес слоя."
   ]
  },
  {
   "cell_type": "markdown",
   "metadata": {
    "id": "hxi77m72af-d"
   },
   "source": [
    "<i> 2.1 Реализуйте линейный слой с DropConnect </i>"
   ]
  },
  {
   "cell_type": "code",
   "execution_count": 9,
   "metadata": {
    "executionInfo": {
     "elapsed": 903,
     "status": "ok",
     "timestamp": 1602204261440,
     "user": {
      "displayName": "Данила Байгушев",
      "photoUrl": "",
      "userId": "06862651594233453127"
     },
     "user_tz": -180
    },
    "id": "Ee2ljeNCaf-f"
   },
   "outputs": [],
   "source": [
    "# полезная функция: .bernoulli_(p)\n",
    "# не забывайте делать requires_grad=False у маски\n",
    "# помните, что в вычислениях должны участвовать Variable, а не тензоры\n",
    "\n",
    "class DropConnect(nn.Module):\n",
    "    def __init__(self, input_dim, output_dim, p=0.5):\n",
    "        super(DropConnect, self).__init__()\n",
    "        self.linear = nn.Linear(input_dim, output_dim)\n",
    "        self.p = p\n",
    "\n",
    "    def forward(self, x):    \n",
    "        mask = torch.zeros_like(self.linear.weight) + self.p\n",
    "        if self.training:          \n",
    "            mask.bernoulli_()\n",
    "\n",
    "        mask = mask.data\n",
    "        output = F.linear(x, self.linear.weight * mask, self.linear.bias)\n",
    "        return output"
   ]
  },
  {
   "cell_type": "markdown",
   "metadata": {
    "id": "CCv4jdyoaf-k"
   },
   "source": [
    "<i> \n",
    "2.2 Сравните графики обучения нейроных сетей:\n",
    "1. Свертки из TestNetwork -> 128 -> 128 -> 10 с ReLU и Dropout между всеми слоями \n",
    "2. Свертки из TestNetwork -> 128 -> 128 -> 10 с ReLU DropConnect вместо всех линейных слоев\n",
    "</i>"
   ]
  },
  {
   "cell_type": "code",
   "execution_count": 10,
   "metadata": {
    "executionInfo": {
     "elapsed": 1160,
     "status": "ok",
     "timestamp": 1602204263658,
     "user": {
      "displayName": "Данила Байгушев",
      "photoUrl": "",
      "userId": "06862651594233453127"
     },
     "user_tz": -180
    },
    "id": "uC3EYVlraf-m"
   },
   "outputs": [],
   "source": [
    "class TestNetwork(nn.Module):\n",
    "    def __init__(self, final_part):\n",
    "        super().__init__()    \n",
    "        \n",
    "        channels = 1\n",
    "        \n",
    "        self.conv_layers = nn.Sequential(\n",
    "            nn.Conv2d(channels, 2, 3, padding=1),    \n",
    "            nn.MaxPool2d(2),\n",
    "            nn.ReLU(),\n",
    "            nn.Conv2d(2, 4, 3, padding=1),            \n",
    "            nn.MaxPool2d(2),\n",
    "            nn.ReLU(),\n",
    "        )\n",
    "        \n",
    "        #input_size = 7 * 7 * 4 = 196\n",
    "        self.flatten = nn.Flatten()\n",
    "        \n",
    "        self.final_part = final_part\n",
    "        \n",
    "        self.log_softmax = nn.LogSoftmax(1)        \n",
    "        \n",
    "    def forward(self, x):\n",
    "        x = self.conv_layers(x)\n",
    "        x = self.flatten(x)\n",
    "        x = self.final_part(x)\n",
    "        return self.log_softmax(x)"
   ]
  },
  {
   "cell_type": "code",
   "execution_count": 16,
   "metadata": {
    "executionInfo": {
     "elapsed": 787,
     "status": "ok",
     "timestamp": 1602205245257,
     "user": {
      "displayName": "Данила Байгушев",
      "photoUrl": "",
      "userId": "06862651594233453127"
     },
     "user_tz": -180
    },
    "id": "5Euv1Alyaf-5"
   },
   "outputs": [],
   "source": [
    "sizes = [196, 256, 128, 10]\n",
    "layers = []\n",
    "for size_input, size_output in zip(sizes, sizes[1:]):\n",
    "    layer = nn.Linear(size_input, size_output)\n",
    "    layer = DropConnect(size_input, size_output, 0.9)\n",
    "    \n",
    "    layers.append(layer)\n",
    "    #layers.append(nn.Dropout(0.3))\n",
    "    layers.append(nn.ReLU())\n",
    "\n",
    "del layers[-1]"
   ]
  },
  {
   "cell_type": "code",
   "execution_count": 13,
   "metadata": {
    "colab": {
     "base_uri": "https://localhost:8080/",
     "height": 393
    },
    "executionInfo": {
     "elapsed": 116811,
     "status": "ok",
     "timestamp": 1602204419849,
     "user": {
      "displayName": "Данила Байгушев",
      "photoUrl": "",
      "userId": "06862651594233453127"
     },
     "user_tz": -180
    },
    "id": "QRoKM7rtbGXr",
    "outputId": "5249c849-429c-4c8b-b32a-ef7680da6d4d"
   },
   "outputs": [
    {
     "name": "stdout",
     "output_type": "stream",
     "text": [
      "Epoch 9... (Train/Test) NLL: 0.026/0.064\tAccuracy: 0.991/0.981\n"
     ]
    },
    {
     "data": {
      "image/png": "[encoded data removed]",
      "text/plain": [
       "<Figure size 864x360 with 2 Axes>"
      ]
     },
     "metadata": {
      "needs_background": "light",
      "tags": []
     },
     "output_type": "display_data"
    },
    {
     "name": "stdout",
     "output_type": "stream",
     "text": [
      "CPU times: user 1min 54s, sys: 1.79 s, total: 1min 55s\n",
      "Wall time: 1min 56s\n"
     ]
    }
   ],
   "source": [
    "%%time\n",
    "\n",
    "#blank\n",
    "from train_utils import train\n",
    "\n",
    "network = TestNetwork(nn.Sequential(*layers))\n",
    "\n",
    "train(network, train_loader, test_loader, 10, 0.001, device='cuda')"
   ]
  },
  {
   "cell_type": "code",
   "execution_count": 15,
   "metadata": {
    "colab": {
     "base_uri": "https://localhost:8080/",
     "height": 393
    },
    "executionInfo": {
     "elapsed": 112696,
     "status": "ok",
     "timestamp": 1602204552249,
     "user": {
      "displayName": "Данила Байгушев",
      "photoUrl": "",
      "userId": "06862651594233453127"
     },
     "user_tz": -180
    },
    "id": "yTnTgiInaf--",
    "outputId": "73a19917-8e54-474b-a151-1c0426b39a9b",
    "scrolled": true
   },
   "outputs": [
    {
     "name": "stdout",
     "output_type": "stream",
     "text": [
      "Epoch 9... (Train/Test) NLL: 0.438/0.061\tAccuracy: 0.783/0.982\n"
     ]
    },
    {
     "data": {
      "image/png": "[encoded data removed]",
      "text/plain": [
       "<Figure size 864x360 with 2 Axes>"
      ]
     },
     "metadata": {
      "needs_background": "light",
      "tags": []
     },
     "output_type": "display_data"
    },
    {
     "name": "stdout",
     "output_type": "stream",
     "text": [
      "CPU times: user 1min 51s, sys: 439 ms, total: 1min 51s\n",
      "Wall time: 1min 51s\n"
     ]
    }
   ],
   "source": [
    "%%time\n",
    "\n",
    "#dropout\n",
    "from train_utils import train\n",
    "\n",
    "network = TestNetwork(nn.Sequential(*layers))\n",
    "\n",
    "train(network, train_loader, test_loader, 10, 0.001, device='cuda')"
   ]
  },
  {
   "cell_type": "code",
   "execution_count": 17,
   "metadata": {
    "colab": {
     "base_uri": "https://localhost:8080/",
     "height": 393
    },
    "executionInfo": {
     "elapsed": 116065,
     "status": "ok",
     "timestamp": 1602205363911,
     "user": {
      "displayName": "Данила Байгушев",
      "photoUrl": "",
      "userId": "06862651594233453127"
     },
     "user_tz": -180
    },
    "id": "ZXDSZ5xNbQFw",
    "outputId": "cb82cb87-5bac-45a0-84b9-92e0a65ec917"
   },
   "outputs": [
    {
     "name": "stdout",
     "output_type": "stream",
     "text": [
      "Epoch 9... (Train/Test) NLL: 0.154/0.332\tAccuracy: 0.952/0.969\n"
     ]
    },
    {
     "data": {
      "image/png": "[encoded data removed]",
      "text/plain": [
       "<Figure size 864x360 with 2 Axes>"
      ]
     },
     "metadata": {
      "needs_background": "light",
      "tags": []
     },
     "output_type": "display_data"
    },
    {
     "name": "stdout",
     "output_type": "stream",
     "text": [
      "CPU times: user 1min 54s, sys: 413 ms, total: 1min 54s\n",
      "Wall time: 1min 54s\n"
     ]
    }
   ],
   "source": [
    "%%time\n",
    "\n",
    "#dropconnect\n",
    "from train_utils import train\n",
    "\n",
    "network = TestNetwork(nn.Sequential(*layers))\n",
    "\n",
    "train(network, train_loader, test_loader, 10, 0.001, device='cuda')"
   ]
  },
  {
   "cell_type": "markdown",
   "metadata": {
    "id": "pooEVZFbaf_L"
   },
   "source": [
    "В test-time стохастичность Dropout убирают и заменяют все веса на их ожидаемое значение: $\\mathbb{E}w = pw + (1-p)0 = pw$."
   ]
  },
  {
   "cell_type": "markdown",
   "metadata": {
    "id": "yfBC8qS4af_K"
   },
   "source": [
    "<i> 2.3 Сделайте выводы по третьей части. </i>"
   ]
  },
  {
   "cell_type": "markdown",
   "metadata": {
    "id": "zFTfYoSSvm5h"
   },
   "source": []
  },
  {
   "cell_type": "markdown",
   "metadata": {
    "id": "if-VP-I4af_M"
   },
   "source": [
    "### Часть 3: Batch Normalization"
   ]
  },
  {
   "cell_type": "markdown",
   "metadata": {
    "id": "Vba0rSy-af_N"
   },
   "source": [
    "Наконец, давайте рассмотрим Batch Normalization. Этот слой вычитает среднее и делит на стандартное отклонение. Среднее и дисперсия вычисляются по батчу независимо для каждого нейрона. У этого слоя есть две важные проблемы: его нельзя использовать при обучении с размером батча 1 и он делает элементы батча зависимыми. Давайте реализуем аналог батч нормализации: <a href=https://arxiv.org/pdf/1607.06450.pdf>Layer normalization</a>. В layer normalization среднее и дисперсия вычисляются по активациям нейронов, независимо для каждого объекта."
   ]
  },
  {
   "cell_type": "markdown",
   "metadata": {
    "id": "cqUTAtjIaf_O"
   },
   "source": [
    "<i> 3.1 Реализуйте Layer Normalization </i>"
   ]
  },
  {
   "cell_type": "code",
   "execution_count": null,
   "metadata": {
    "id": "e2H4VX4_af_O"
   },
   "outputs": [],
   "source": [
    "# полезные функции: .std(dim), .mean(dim)\n",
    "\n",
    "class LayerNormalization(nn.Module):\n",
    "    def forward(self, x):\n",
    "        output = ##### YOUR CODE HERE #####\n",
    "        return output"
   ]
  },
  {
   "cell_type": "markdown",
   "metadata": {
    "id": "g2sTZ7h5af_T"
   },
   "source": [
    "<i> \n",
    "3.2 Сравните графики обучения нейроных сетей:\n",
    "1. Свертки из TestNetwork -> 128 -> 128 -> 10 с ReLU и Batch normalization между всеми слоями \n",
    "2. Свертки из TestNetwork -> 128 -> 128 -> 10 с ReLU и Layer normalization между всеми слоями \n",
    "</i>"
   ]
  },
  {
   "cell_type": "code",
   "execution_count": null,
   "metadata": {
    "id": "q1PPqKRZaf_U"
   },
   "outputs": [],
   "source": [
    "##### YOUR CODE HERE #####"
   ]
  },
  {
   "cell_type": "markdown",
   "metadata": {
    "id": "CudyBOIgaf_X"
   },
   "source": [
    "<i> 3.3 Сделайте выводы по третьей части </i>"
   ]
  },
  {
   "cell_type": "markdown",
   "metadata": {
    "id": "PgZh16-IvluR"
   },
   "source": []
  },
  {
   "cell_type": "markdown",
   "metadata": {
    "id": "8VTz6VQ5af_Z"
   },
   "source": [
    "#### Feedback (опционально)"
   ]
  },
  {
   "cell_type": "markdown",
   "metadata": {
    "id": "ewz7GZvvaf_Z"
   },
   "source": [
    "Здесь вы можете оставить список опечаток из лекции или семинара:"
   ]
  },
  {
   "cell_type": "markdown",
   "metadata": {
    "id": "XCSe88HUaf_a"
   },
   "source": []
  },
  {
   "cell_type": "markdown",
   "metadata": {
    "id": "58N5yqKUaf_b"
   },
   "source": [
    "Здесь вы можете оставить комментарии по лекции или семинару:"
   ]
  },
  {
   "cell_type": "markdown",
   "metadata": {
    "id": "SeGFzT7vaf_b"
   },
   "source": []
  }
 ],
 "metadata": {
  "accelerator": "GPU",
  "colab": {
   "collapsed_sections": [],
   "name": "[2020] Practice task 5, Speedup.ipynb",
   "provenance": [],
   "toc_visible": true
  },
  "kernelspec": {
   "display_name": "Python 3",
   "language": "python",
   "name": "python3"
  },
  "language_info": {
   "codemirror_mode": {
    "name": "ipython",
    "version": 3
   },
   "file_extension": ".py",
   "mimetype": "text/x-python",
   "name": "python",
   "nbconvert_exporter": "python",
   "pygments_lexer": "ipython3",
   "version": "3.7.0"
  },
  "latex_envs": {
   "bibliofile": "biblio.bib",
   "cite_by": "apalike",
   "current_citInitial": 1,
   "eqLabelWithNumbers": true,
   "eqNumInitial": 0
  }
 },
 "nbformat": 4,
 "nbformat_minor": 1
}