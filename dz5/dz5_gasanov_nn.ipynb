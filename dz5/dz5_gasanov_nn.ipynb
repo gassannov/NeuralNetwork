{
 "cells": [
  {
   "cell_type": "markdown",
   "metadata": {
    "id": "bn27NI7zaf9Z"
   },
   "source": [
    "## Семинар 5: \"Улучшение сходимости нейросетей\""
   ]
  },
  {
   "cell_type": "markdown",
   "metadata": {
    "id": "kY9vse7waf9b"
   },
   "source": [
    "ФИО:"
   ]
  },
  {
   "cell_type": "code",
   "execution_count": null,
   "metadata": {
    "executionInfo": {
     "elapsed": 1357,
     "status": "ok",
     "timestamp": 1602204244049,
     "user": {
      "displayName": "Данила Байгушев",
      "photoUrl": "",
      "userId": "06862651594233453127"
     },
     "user_tz": -180
    },
    "id": "JdEAkdunaf9d"
   },
   "outputs": [],
   "source": [
    "import numpy as np\n",
    "from sklearn.model_selection import train_test_split\n",
    "import matplotlib.pyplot as plt\n",
    "import torch\n",
    "from torch import nn\n",
    "import torch.nn.functional as F\n",
    "from torch.autograd import Variable\n",
    "from torch.utils.data import DataLoader\n",
    "from torchvision.datasets import MNIST\n",
    "from torchvision import transforms\n",
    "%matplotlib inline"
   ]
  },
  {
   "cell_type": "markdown",
   "metadata": {
    "id": "iIgr4r2Haf9l"
   },
   "source": [
    "На этом семинаре мы попробуем улучшить результаты, полученные на предыдущем занятии\n",
    "Для этого нам понадобятся следующие вещи:\n",
    "* Dropout\n",
    "* Batch Normalization\n",
    "* Инициализация весов"
   ]
  },
  {
   "cell_type": "markdown",
   "metadata": {
    "id": "CZHtxmbUaf9m"
   },
   "source": [
    "### Часть 1: Инициализация весов"
   ]
  },
  {
   "cell_type": "markdown",
   "metadata": {
    "id": "W8dhNr-faf9n"
   },
   "source": [
    "На лекции доказывалось, что при инициализации He и Glorot дисперсия активаций градиентов в каждом слое будут примерно равны. Давайте проверим это. "
   ]
  },
  {
   "cell_type": "code",
   "execution_count": null,
   "metadata": {
    "executionInfo": {
     "elapsed": 638,
     "status": "ok",
     "timestamp": 1602204245453,
     "user": {
      "displayName": "Данила Байгушев",
      "photoUrl": "",
      "userId": "06862651594233453127"
     },
     "user_tz": -180
    },
    "id": "216zZRJAaf9o"
   },
   "outputs": [],
   "source": [
    "# Dataloader\n",
    "to_numpy = lambda x: x.numpy()\n",
    "transform = transforms.Compose([\n",
    "                       transforms.ToTensor(),\n",
    "                       transforms.Normalize((0.1307,), (0.3081,))\n",
    "                    ])\n",
    "train_dataset = MNIST('.', train=True, download=True, transform=transform)\n",
    "test_dataset = MNIST('.', train=False, transform=transform)\n",
    "\n",
    "train_loader = DataLoader(train_dataset, batch_size=128, shuffle=True)\n",
    "test_loader = DataLoader(test_dataset, batch_size=128, shuffle=True)"
   ]
  },
  {
   "cell_type": "code",
   "execution_count": null,
   "metadata": {
    "executionInfo": {
     "elapsed": 1044,
     "status": "ok",
     "timestamp": 1602204248730,
     "user": {
      "displayName": "Данила Байгушев",
      "photoUrl": "",
      "userId": "06862651594233453127"
     },
     "user_tz": -180
    },
    "id": "EqpqV_pVaf9t"
   },
   "outputs": [],
   "source": [
    "images_train, labels_train = next(iter(train_loader))"
   ]
  },
  {
   "cell_type": "code",
   "execution_count": null,
   "metadata": {
    "executionInfo": {
     "elapsed": 8672,
     "status": "ok",
     "timestamp": 1602204258260,
     "user": {
      "displayName": "Данила Байгушев",
      "photoUrl": "",
      "userId": "06862651594233453127"
     },
     "user_tz": -180
    },
    "id": "agAN6Tyfaf9x"
   },
   "outputs": [],
   "source": [
    "## Usage example:\n",
    "for X, y in train_loader:\n",
    "    X = X.view(X.size(0), -1)\n",
    "    X = X.numpy() ### Converts torch.Tensor to numpy array\n",
    "    y = y.numpy()\n",
    "    pass"
   ]
  },
  {
   "cell_type": "code",
   "execution_count": null,
   "metadata": {
    "colab": {
     "base_uri": "https://localhost:8080/",
     "height": 420
    },
    "executionInfo": {
     "elapsed": 8767,
     "status": "ok",
     "timestamp": 1602204259023,
     "user": {
      "displayName": "Данила Байгушев",
      "photoUrl": "",
      "userId": "06862651594233453127"
     },
     "user_tz": -180
    },
    "id": "71k9eU4Caf91",
    "outputId": "d056f30d-d7cf-4128-8736-5a83d5511445"
   },
   "outputs": [],
   "source": [
    "plt.figure(figsize=(6, 7))\n",
    "for i in range(25):\n",
    "    plt.subplot(5, 5, i+1)\n",
    "    plt.imshow(X[i].reshape(28, 28), cmap=plt.cm.Greys_r)\n",
    "    plt.title(y[i])\n",
    "    plt.axis('off')"
   ]
  },
  {
   "cell_type": "markdown",
   "metadata": {
    "id": "CjxGvxs8af98"
   },
   "source": [
    "<i> 1.1 </i> Инициализируйте полносвязную сеть нормальным шумом N(0, 0.1) с архитектурой 784 -> 500 x (10 раз) -> 10. В качестве активации возьмите tanh"
   ]
  },
  {
   "cell_type": "code",
   "execution_count": null,
   "metadata": {
    "executionInfo": {
     "elapsed": 6511,
     "status": "ok",
     "timestamp": 1602204259025,
     "user": {
      "displayName": "Данила Байгушев",
      "photoUrl": "",
      "userId": "06862651594233453127"
     },
     "user_tz": -180
    },
    "id": "DgCP_qclaf99"
   },
   "outputs": [],
   "source": [
    "def init_layer(layer, mean=0, std=1):\n",
    "    # Тут надо быть аккуратным — можно случайно создать копию и менять значения у копии\n",
    "    weight = layer.state_dict()['weight']\n",
    "    bias = layer.state_dict()['bias']\n",
    "    bias.zero_()\n",
    "    weight.normal_(mean=mean, std=std)\n",
    "\n",
    "def init_xavier(layer, border):\n",
    "    weight = layer.state_dict()['weight']\n",
    "    bias = layer.state_dict()['bias']\n",
    "    bias.zero_()\n",
    "    weight.uniform_(-border, border)\n",
    "\n",
    "def init_he(layer, mean=0, std=1):\n",
    "    weight = layer.state_dict()['weight']\n",
    "    bias = layer.state_dict()['bias']\n",
    "    bias.zero_()\n",
    "    weight.normal_(mean=mean, std=np.sqrt(std))\n",
    "\n",
    "def forward_hook(self, input_, output):\n",
    "    std = input_[0].std().item()\n",
    "    print('forward', std)\n",
    "\n",
    "def backward_hook(self, grad_input, grad_output):\n",
    "    std = grad_input[0].std().item()\n",
    "    print('backward', std)\n",
    "\n",
    "    \n",
    "# пример:\n",
    "layers = []\n",
    "layer_first = nn.Linear(28*28, 500)\n",
    "init_layer(layer_first, 0, 0.1)\n",
    "layer_first.register_backward_hook(backward_hook)\n",
    "layer_first.register_forward_hook(forward_hook)\n",
    "layers.append(layer_first)\n",
    "layers.append(torch.nn.Tanh())\n",
    "for _ in range(10):\n",
    "    layer = nn.Linear(500, 500)\n",
    "    init_layer(layer, 0, 0.1)\n",
    "    layer.register_forward_hook(forward_hook)\n",
    "    layer.register_backward_hook(backward_hook)\n",
    "    layers.append(layer)\n",
    "    layers.append(torch.nn.Tanh())\n",
    "\n",
    "layer_last = nn.Linear(500, 10)\n",
    "init_layer(layer_last, 0, 0.1)\n",
    "layer_last.register_forward_hook(forward_hook)\n",
    "layer_last.register_backward_hook(backward_hook)\n",
    "layers.append(layer_last)"
   ]
  },
  {
   "cell_type": "markdown",
   "metadata": {
    "id": "SsjtA7N_af-G"
   },
   "source": [
    "<i>1.2 Пропустите батч изображений через нейронную сеть и вычислите дисперсию активаций. Затем вычислите градиент и получите дисперсию градиентов. Сравните эти значения между собой для разных слоев.</i>"
   ]
  },
  {
   "cell_type": "code",
   "execution_count": null,
   "metadata": {
    "colab": {
     "base_uri": "https://localhost:8080/",
     "height": 1000
    },
    "executionInfo": {
     "elapsed": 3872,
     "status": "ok",
     "timestamp": 1602204259406,
     "user": {
      "displayName": "Данила Байгушев",
      "photoUrl": "",
      "userId": "06862651594233453127"
     },
     "user_tz": -180
    },
    "id": "7Ri1Tvuyaf-K",
    "outputId": "e668298a-0f3e-4dbb-bbe5-84ab7346b44d",
    "scrolled": true
   },
   "outputs": [],
   "source": [
    "network = nn.Sequential(*layers)\n",
    "\n",
    "#пример:\n",
    "n_objects = 100\n",
    "X = images_train[:n_objects].view(n_objects, -1).data\n",
    "y = labels_train[:n_objects].data\n",
    "activations = network(X)\n",
    "loss_fn = torch.nn.NLLLoss()\n",
    "optimizer = torch.optim.Adam(network.parameters(), lr=0.001) \n",
    "loss = loss_fn(activations, y)\n",
    "print()\n",
    "loss.backward()"
   ]
  },
  {
   "cell_type": "markdown",
   "metadata": {
    "id": "aUJG1Dbqaf-R"
   },
   "source": [
    "<i>1.3 Повторите эксперимент для инициализаций He и Xavier (формулы есть в лекции).</i>"
   ]
  },
  {
   "cell_type": "code",
   "execution_count": null,
   "metadata": {
    "id": "FyD1lPKwaf-T"
   },
   "outputs": [],
   "source": [
    "layers = []\n",
    "layer_first = nn.Linear(28*28, 500)\n",
    "init_xavier(layer_first, np.sqrt(6/(28*28+500)))\n",
    "layer_first.register_forward_hook(forward_hook)\n",
    "layer_first.register_backward_hook(backward_hook)\n",
    "layers.append(layer_first)\n",
    "layers.append(torch.nn.Tanh())\n",
    "for _ in range(10):\n",
    "    layer = nn.Linear(500, 500)\n",
    "    init_xavier(layer, np.sqrt(6/1000))\n",
    "    layer.register_forward_hook(forward_hook)\n",
    "    layer.register_backward_hook(backward_hook)\n",
    "    layers.append(layer)\n",
    "    layers.append(torch.nn.Tanh())\n",
    "\n",
    "layer_last = nn.Linear(500, 10)\n",
    "init_xavier(layer_last, np.sqrt(6/510))\n",
    "layer_last.register_forward_hook(forward_hook)\n",
    "layer_last.register_backward_hook(backward_hook)\n",
    "layers.append(layer_last)"
   ]
  },
  {
   "cell_type": "code",
   "execution_count": null,
   "outputs": [],
   "source": [
    "network = nn.Sequential(*layers)\n",
    "\n",
    "#пример:\n",
    "n_objects = 100\n",
    "X = images_train[:n_objects].view(n_objects, -1).data\n",
    "y = labels_train[:n_objects].data\n",
    "activations = network(X)\n",
    "loss_fn = torch.nn.NLLLoss()\n",
    "optimizer = torch.optim.Adam(network.parameters(), lr=0.001)\n",
    "loss = loss_fn(activations, y)\n",
    "print()\n",
    "loss.backward()"
   ],
   "metadata": {
    "collapsed": false,
    "pycharm": {
     "name": "#%%\n"
    }
   }
  },
  {
   "cell_type": "code",
   "execution_count": null,
   "outputs": [],
   "source": [
    "layers = []\n",
    "layer_first = nn.Linear(28*28, 500)\n",
    "init_he(layer_first, std=2/(28*28))\n",
    "layer_first.register_forward_hook(forward_hook)\n",
    "layer_first.register_backward_hook(backward_hook)\n",
    "layers.append(layer_first)\n",
    "layers.append(torch.nn.ReLU())\n",
    "for _ in range(10):\n",
    "    layer = nn.Linear(500, 500)\n",
    "    init_he(layer, std=2/500)\n",
    "    layer.register_forward_hook(forward_hook)\n",
    "    layer.register_backward_hook(backward_hook)\n",
    "    layers.append(layer)\n",
    "    layers.append(torch.nn.ReLU())\n",
    "\n",
    "layer_last = nn.Linear(500, 10)\n",
    "init_he(layer_last, std=2/500)\n",
    "layer_last.register_forward_hook(forward_hook)\n",
    "layer_last.register_backward_hook(backward_hook)\n",
    "layers.append(layer_last)"
   ],
   "metadata": {
    "collapsed": false,
    "pycharm": {
     "name": "#%%\n"
    }
   }
  },
  {
   "cell_type": "code",
   "execution_count": null,
   "outputs": [],
   "source": [
    "network = nn.Sequential(*layers)\n",
    "\n",
    "#пример:\n",
    "n_objects = 100\n",
    "X = images_train[:n_objects].view(n_objects, -1).data\n",
    "y = labels_train[:n_objects].data\n",
    "activations = network(X)\n",
    "loss_fn = torch.nn.NLLLoss()\n",
    "optimizer = torch.optim.Adam(network.parameters(), lr=0.001)\n",
    "loss = loss_fn(activations, y)\n",
    "print()\n",
    "loss.backward()"
   ],
   "metadata": {
    "collapsed": false,
    "pycharm": {
     "name": "#%%\n"
    }
   }
  },
  {
   "cell_type": "markdown",
   "metadata": {
    "id": "7U2YSSw5af-Y"
   },
   "source": [
    "<i> 1.4 Сделайте выводы по первой части </i>"
   ]
  },
  {
   "cell_type": "markdown",
   "metadata": {
    "id": "NBQ7o-hjaf-a"
   },
   "source": []
  },
  {
   "cell_type": "markdown",
   "metadata": {
    "id": "4kYx-hwLaf-b"
   },
   "source": [
    "### Часть 2: Dropout"
   ]
  },
  {
   "cell_type": "markdown",
   "metadata": {
    "id": "mDoy5_yEaf-c"
   },
   "source": [
    "Другим полезным слоем является Dropout. В нем с вероятностью 1-p зануляется выход каждого нейрона. Этот слой уже реализован в pyTorch, поэтому вновь реализовывать его не интересно. Давайте реализуем DropConnect — аналог Dropout. В нем с вероятностью 1-p зануляется каждый вес слоя."
   ]
  },
  {
   "cell_type": "markdown",
   "metadata": {
    "id": "hxi77m72af-d"
   },
   "source": [
    "<i> 2.1 Реализуйте линейный слой с DropConnect </i>"
   ]
  },
  {
   "cell_type": "code",
   "execution_count": null,
   "outputs": [],
   "source": [],
   "metadata": {
    "collapsed": false,
    "pycharm": {
     "name": "#%%\n"
    }
   }
  },
  {
   "cell_type": "code",
   "execution_count": null,
   "metadata": {
    "executionInfo": {
     "elapsed": 903,
     "status": "ok",
     "timestamp": 1602204261440,
     "user": {
      "displayName": "Данила Байгушев",
      "photoUrl": "",
      "userId": "06862651594233453127"
     },
     "user_tz": -180
    },
    "id": "Ee2ljeNCaf-f"
   },
   "outputs": [],
   "source": [
    "# полезная функция: .bernoulli_(p)\n",
    "# не забывайте делать requires_grad=False у маски\n",
    "# помните, что в вычислениях должны участвовать Variable, а не тензоры\n",
    "\n",
    "class DropConnect(nn.Module):\n",
    "    def __init__(self, input_dim, output_dim, p=0.5):\n",
    "        super(DropConnect, self).__init__()\n",
    "        self.linear = nn.Linear(input_dim, output_dim)\n",
    "        self.p = p\n",
    "        self.input_dim = input_dim\n",
    "        self.output_dim = output_dim\n",
    "\n",
    "    def forward(self, x):\n",
    "        if self.training:\n",
    "            mask = torch.bernoulli(torch.Tensor(self.output_dim, self.input_dim), 1-self.p)\n",
    "        else:\n",
    "            mask = torch.ones_like(self.linear.weight)\n",
    "        mask.requires_grad = False\n",
    "        mask = mask.data\n",
    "        a = self.linear.weight * mask * (1-self.p)\n",
    "        output = F.linear(x, a, self.linear.bias)\n",
    "        return output"
   ]
  },
  {
   "cell_type": "markdown",
   "metadata": {
    "id": "CCv4jdyoaf-k"
   },
   "source": [
    "<i> \n",
    "2.2 Сравните графики обучения нейроных сетей:\n",
    "1. Свертки из TestNetwork -> 128 -> 128 -> 10 с ReLU и Dropout между всеми слоями \n",
    "2. Свертки из TestNetwork -> 128 -> 128 -> 10 с ReLU DropConnect вместо всех линейных слоев\n",
    "</i>"
   ]
  },
  {
   "cell_type": "code",
   "execution_count": 32,
   "metadata": {
    "executionInfo": {
     "elapsed": 1160,
     "status": "ok",
     "timestamp": 1602204263658,
     "user": {
      "displayName": "Данила Байгушев",
      "photoUrl": "",
      "userId": "06862651594233453127"
     },
     "user_tz": -180
    },
    "id": "uC3EYVlraf-m"
   },
   "outputs": [],
   "source": [
    "class TestNetwork(nn.Module):\n",
    "    def __init__(self, final_part):\n",
    "        super().__init__()\n",
    "        \n",
    "        channels = 1\n",
    "        \n",
    "        self.conv_layers = nn.Sequential(\n",
    "            nn.Conv2d(channels, 2, 3, padding=1),    \n",
    "            nn.MaxPool2d(2),\n",
    "            nn.ReLU(),\n",
    "            nn.Conv2d(2, 4, 3, padding=1),            \n",
    "            nn.MaxPool2d(2),\n",
    "            nn.ReLU(),\n",
    "        )\n",
    "        \n",
    "        #input_size = 7 * 7 * 4 = 196\n",
    "        self.flatten = nn.Flatten()\n",
    "        \n",
    "        self.final_part = final_part\n",
    "        \n",
    "        self.log_softmax = nn.LogSoftmax(1)\n",
    "\n",
    "    def forward(self, x):\n",
    "        x = self.conv_layers(x)\n",
    "        x = self.flatten(x)\n",
    "        x = self.final_part(x)\n",
    "        return self.log_softmax(x)"
   ]
  },
  {
   "cell_type": "code",
   "execution_count": 33,
   "outputs": [],
   "source": [
    "from train_utils import train"
   ],
   "metadata": {
    "collapsed": false,
    "pycharm": {
     "name": "#%%\n"
    }
   }
  },
  {
   "cell_type": "code",
   "execution_count": 34,
   "outputs": [
    {
     "name": "stdout",
     "output_type": "stream",
     "text": [
      "Epoch 9... (Train/Test) NLL: 0.047/0.059\tAccuracy: 0.984/0.982\n"
     ]
    },
    {
     "data": {
      "text/plain": "<Figure size 864x360 with 2 Axes>",
      "image/png": "[encoded data removed]"
     },
     "metadata": {
      "needs_background": "light"
     },
     "output_type": "display_data"
    },
    {
     "data": {
      "text/plain": "([0.4842344386808908,\n  0.15789258117868957,\n  0.11626761507139659,\n  0.0929520649662706,\n  0.08144286687352828,\n  0.0725165486498587,\n  0.06366864423543564,\n  0.058202544715740025,\n  0.05225432238408497,\n  0.04747837868286793],\n [0.18651208356965945,\n  0.10868690101594865,\n  0.09278873750303365,\n  0.07589384602217734,\n  0.06860266256888833,\n  0.0663609580855958,\n  0.06049994745916581,\n  0.0579885431046633,\n  0.05721935583425898,\n  0.058618153327533715],\n [0.8577314,\n  0.9516758,\n  0.9638693,\n  0.97071564,\n  0.97343636,\n  0.9766791,\n  0.98009396,\n  0.98102677,\n  0.9826981,\n  0.98438054],\n [0.940269,\n  0.964102,\n  0.9688489,\n  0.97458464,\n  0.977947,\n  0.9789359,\n  0.979727,\n  0.98328716,\n  0.9801226,\n  0.981606])"
     },
     "execution_count": 34,
     "metadata": {},
     "output_type": "execute_result"
    }
   ],
   "source": [
    "layers_simple = [\n",
    "    torch.nn.Linear(196, 128),\n",
    "    torch.nn.ReLU(),\n",
    "    torch.nn.Linear(128, 128),\n",
    "    nn.ReLU(),\n",
    "    torch.nn.Linear(128, 10),\n",
    "]\n",
    "network_simple = TestNetwork(nn.Sequential(*layers_simple))\n",
    "train(network_simple, train_loader, test_loader, 10, 0.001)"
   ],
   "metadata": {
    "collapsed": false,
    "pycharm": {
     "name": "#%%\n"
    }
   }
  },
  {
   "cell_type": "code",
   "execution_count": 35,
   "metadata": {
    "colab": {
     "base_uri": "https://localhost:8080/",
     "height": 393
    },
    "executionInfo": {
     "elapsed": 116811,
     "status": "ok",
     "timestamp": 1602204419849,
     "user": {
      "displayName": "Данила Байгушев",
      "photoUrl": "",
      "userId": "06862651594233453127"
     },
     "user_tz": -180
    },
    "id": "QRoKM7rtbGXr",
    "outputId": "5249c849-429c-4c8b-b32a-ef7680da6d4d"
   },
   "outputs": [
    {
     "name": "stdout",
     "output_type": "stream",
     "text": [
      "Epoch 9... (Train/Test) NLL: 0.133/0.072\tAccuracy: 0.961/0.979\n"
     ]
    },
    {
     "data": {
      "text/plain": "<Figure size 864x360 with 2 Axes>",
      "image/png": "[encoded data removed]"
     },
     "metadata": {
      "needs_background": "light"
     },
     "output_type": "display_data"
    },
    {
     "data": {
      "text/plain": "([0.7899158111195574,\n  0.3180512743972258,\n  0.24637856170821038,\n  0.20984025682404098,\n  0.18685923235566376,\n  0.17324180082122145,\n  0.16151856651692503,\n  0.1507566750033705,\n  0.1404593973073052,\n  0.13297322922265098],\n [0.21364451690187938,\n  0.14650585606128355,\n  0.11600030034403258,\n  0.09472746812278711,\n  0.08853347990897638,\n  0.08477193749026407,\n  0.07591627186895171,\n  0.0724718404441624,\n  0.0682032981745993,\n  0.07234944084871418],\n [0.73888373,\n  0.9040956,\n  0.92688346,\n  0.9388826,\n  0.9450848,\n  0.9495103,\n  0.952864,\n  0.95570695,\n  0.95910513,\n  0.9612318],\n [0.9349288,\n  0.9546084,\n  0.9634098,\n  0.972409,\n  0.9728046,\n  0.9737935,\n  0.97547466,\n  0.97715586,\n  0.97854036,\n  0.9794304])"
     },
     "execution_count": 35,
     "metadata": {},
     "output_type": "execute_result"
    }
   ],
   "source": [
    "layers1 = [\n",
    "    torch.nn.Linear(196, 128),\n",
    "    torch.nn.Dropout(0.5),\n",
    "    torch.nn.ReLU(),\n",
    "    torch.nn.Linear(128, 128),\n",
    "    torch.nn.Dropout(0.5),\n",
    "    nn.ReLU(),\n",
    "    torch.nn.Linear(128, 10),\n",
    "]\n",
    "network1 = TestNetwork(nn.Sequential(*layers1))\n",
    "train(network1, train_loader, test_loader, 10, 0.001)"
   ]
  },
  {
   "cell_type": "code",
   "execution_count": 36,
   "outputs": [
    {
     "name": "stdout",
     "output_type": "stream",
     "text": [
      "Epoch 9... (Train/Test) NLL: 0.126/0.193\tAccuracy: 0.961/0.973\n"
     ]
    },
    {
     "data": {
      "text/plain": "<Figure size 864x360 with 2 Axes>",
      "image/png": "[encoded data removed]"
     },
     "metadata": {
      "needs_background": "light"
     },
     "output_type": "display_data"
    },
    {
     "data": {
      "text/plain": "([0.9793340941227829,\n  0.3727141965363326,\n  0.2774995662796218,\n  0.22239085890527474,\n  0.1900711961741895,\n  0.16813266460003376,\n  0.1568423730176268,\n  0.14482997858257435,\n  0.13522431253592596,\n  0.12556775218880634],\n [0.8237435536671288,\n  0.5542913966552838,\n  0.42410869594616224,\n  0.3554570110488235,\n  0.2960397619921325,\n  0.24763747059468405,\n  0.2198029120446117,\n  0.23073632956358686,\n  0.1897578731618005,\n  0.1932484127958364],\n [0.67191947,\n  0.88282365,\n  0.9144845,\n  0.92967635,\n  0.9396655,\n  0.94754463,\n  0.95045424,\n  0.95386904,\n  0.95617336,\n  0.96053773],\n [0.8910206,\n  0.9279074,\n  0.94590586,\n  0.95421284,\n  0.95925635,\n  0.9647943,\n  0.9672666,\n  0.9674644,\n  0.9720135,\n  0.9729035])"
     },
     "execution_count": 36,
     "metadata": {},
     "output_type": "execute_result"
    }
   ],
   "source": [
    "layers_drop_connect = [\n",
    "    DropConnect(196, 128),\n",
    "    torch.nn.ReLU(),\n",
    "    DropConnect(128, 128),\n",
    "    nn.ReLU(),\n",
    "    torch.nn.Linear(128, 10),\n",
    "]\n",
    "network_drop_connect = TestNetwork(nn.Sequential(*layers_drop_connect))\n",
    "train(network_drop_connect, train_loader, test_loader, 10, 0.001)"
   ],
   "metadata": {
    "collapsed": false,
    "pycharm": {
     "name": "#%%\n"
    }
   }
  },
  {
   "cell_type": "markdown",
   "metadata": {
    "id": "pooEVZFbaf_L"
   },
   "source": [
    "В test-time стохастичность Dropout убирают и заменяют все веса на их ожидаемое значение: $\\mathbb{E}w = pw + (1-p)0 = pw$."
   ]
  },
  {
   "cell_type": "markdown",
   "metadata": {
    "id": "yfBC8qS4af_K"
   },
   "source": [
    "<i> 2.3 Сделайте выводы по третьей части. </i>"
   ]
  },
  {
   "cell_type": "markdown",
   "metadata": {
    "id": "zFTfYoSSvm5h"
   },
   "source": []
  },
  {
   "cell_type": "markdown",
   "metadata": {
    "id": "if-VP-I4af_M"
   },
   "source": [
    "### Часть 3: Batch Normalization"
   ]
  },
  {
   "cell_type": "markdown",
   "metadata": {
    "id": "Vba0rSy-af_N"
   },
   "source": [
    "Наконец, давайте рассмотрим Batch Normalization. Этот слой вычитает среднее и делит на стандартное отклонение. Среднее и дисперсия вычисляются по батчу независимо для каждого нейрона. У этого слоя есть две важные проблемы: его нельзя использовать при обучении с размером батча 1 и он делает элементы батча зависимыми. Давайте реализуем аналог батч нормализации: <a href=https://arxiv.org/pdf/1607.06450.pdf>Layer normalization</a>. В layer normalization среднее и дисперсия вычисляются по активациям нейронов, независимо для каждого объекта."
   ]
  },
  {
   "cell_type": "markdown",
   "metadata": {
    "id": "cqUTAtjIaf_O"
   },
   "source": [
    "<i> 3.1 Реализуйте Layer Normalization </i>"
   ]
  },
  {
   "cell_type": "code",
   "execution_count": 79,
   "metadata": {
    "id": "e2H4VX4_af_O"
   },
   "outputs": [],
   "source": [
    "# полезные функции: .std(dim), .mean(dim)\n",
    "\n",
    "class LayerNormalization(nn.Module):\n",
    "    def __init__(self):\n",
    "        self.gamma = torch.autograd.Variable(torch.tensor(1.0), requires_grad=True)\n",
    "        self.betta = torch.autograd.Variable(torch.tensor(0.0), requires_grad=True)\n",
    "        super().__init__()\n",
    "    def forward(self, x):\n",
    "        output = (x.transpose(1,0)-x.mean(dim=1))/x.std(dim=1) * self.gamma + self.betta\n",
    "        return output.transpose(1, 0)"
   ]
  },
  {
   "cell_type": "markdown",
   "source": [
    "<i>\n",
    "3.2 Сравните графики обучения нейроных сетей:\n",
    "1. Свертки из TestNetwork -> 128 -> 128 -> 10 с ReLU и Batch normalization между всеми слоями\n",
    "2. Свертки из TestNetwork -> 128 -> 128 -> 10 с ReLU и Layer normalization между всеми слоями\n",
    "</i>"
   ],
   "metadata": {
    "collapsed": false,
    "pycharm": {
     "name": "#%% md\n"
    }
   }
  },
  {
   "cell_type": "code",
   "execution_count": 82,
   "outputs": [
    {
     "name": "stdout",
     "output_type": "stream",
     "text": [
      "Epoch 9... (Train/Test) NLL: 0.029/0.059\tAccuracy: 0.990/0.981\n"
     ]
    },
    {
     "data": {
      "text/plain": "<Figure size 864x360 with 2 Axes>",
      "image/png": "[encoded data removed]"
     },
     "metadata": {
      "needs_background": "light"
     },
     "output_type": "display_data"
    },
    {
     "data": {
      "text/plain": "([0.289992975059158,\n  0.09953003503413978,\n  0.07564526912309467,\n  0.06202841332075057,\n  0.05175290719719171,\n  0.04469056415117419,\n  0.04064171714608921,\n  0.03545742296476735,\n  0.03206197694013479,\n  0.029495165955874997],\n [0.10659019295361978,\n  0.07256599169083033,\n  0.06857321713166901,\n  0.06111201749454382,\n  0.060568847339836106,\n  0.059339198661095736,\n  0.06796317030616765,\n  0.058502310518576184,\n  0.058000232632378045,\n  0.05925776026966168],\n [0.9146788,\n  0.96899986,\n  0.97622937,\n  0.98006064,\n  0.9836809,\n  0.9858797,\n  0.9865572,\n  0.9879897,\n  0.9895611,\n  0.9898221],\n [0.9662777,\n  0.976068,\n  0.9791337,\n  0.9792326,\n  0.9806171,\n  0.980716,\n  0.9792326,\n  0.9805182,\n  0.98239714,\n  0.9808149])"
     },
     "execution_count": 82,
     "metadata": {},
     "output_type": "execute_result"
    }
   ],
   "source": [
    "layers_normalization = [\n",
    "    LayerNormalization(),\n",
    "    torch.nn.Linear(196, 128),\n",
    "    torch.nn.ReLU(),\n",
    "    LayerNormalization(),\n",
    "    torch.nn.Linear(128, 128),\n",
    "    nn.ReLU(),\n",
    "    nn.LayerNorm([128]),\n",
    "    torch.nn.Linear(128, 10),\n",
    "]\n",
    "network_normalization = TestNetwork(nn.Sequential(*layers_normalization))\n",
    "train(network_normalization, train_loader, test_loader, 10, 0.001)"
   ],
   "metadata": {
    "collapsed": false,
    "pycharm": {
     "name": "#%%\n"
    }
   }
  },
  {
   "cell_type": "markdown",
   "metadata": {
    "id": "CudyBOIgaf_X"
   },
   "source": [
    "<i> 3.3 Сделайте выводы по третьей части </i>"
   ]
  },
  {
   "cell_type": "markdown",
   "metadata": {
    "id": "PgZh16-IvluR"
   },
   "source": [
    "Нормализация это мощный инструмент, который позволяет уменьшить ошибку на тестовой выборке"
   ]
  },
  {
   "cell_type": "markdown",
   "metadata": {
    "id": "8VTz6VQ5af_Z"
   },
   "source": [
    "#### Feedback (опционально)"
   ]
  },
  {
   "cell_type": "markdown",
   "metadata": {
    "id": "ewz7GZvvaf_Z"
   },
   "source": [
    "Здесь вы можете оставить список опечаток из лекции или семинара:"
   ]
  },
  {
   "cell_type": "markdown",
   "metadata": {
    "id": "XCSe88HUaf_a"
   },
   "source": []
  },
  {
   "cell_type": "markdown",
   "metadata": {
    "id": "58N5yqKUaf_b"
   },
   "source": [
    "Здесь вы можете оставить комментарии по лекции или семинару:"
   ]
  },
  {
   "cell_type": "markdown",
   "metadata": {
    "id": "SeGFzT7vaf_b"
   },
   "source": []
  }
 ],
 "metadata": {
  "accelerator": "GPU",
  "colab": {
   "collapsed_sections": [],
   "name": "[2020] Practice task 5, Speedup.ipynb",
   "provenance": [],
   "toc_visible": true
  },
  "kernelspec": {
   "display_name": "Python 3",
   "language": "python",
   "name": "python3"
  },
  "language_info": {
   "codemirror_mode": {
    "name": "ipython",
    "version": 3
   },
   "file_extension": ".py",
   "mimetype": "text/x-python",
   "name": "python",
   "nbconvert_exporter": "python",
   "pygments_lexer": "ipython3",
   "version": "3.7.0"
  },
  "latex_envs": {
   "bibliofile": "biblio.bib",
   "cite_by": "apalike",
   "current_citInitial": 1,
   "eqLabelWithNumbers": true,
   "eqNumInitial": 0
  }
 },
 "nbformat": 4,
 "nbformat_minor": 1
}