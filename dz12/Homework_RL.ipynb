{
 "cells": [
  {
   "cell_type": "markdown",
   "id": "3801d352",
   "metadata": {},
   "source": [
    "## Домашнее задание : \"Обучение с подкреплением\""
   ]
  },
  {
   "cell_type": "markdown",
   "id": "e0c3d037",
   "metadata": {},
   "source": [
    "ФИО:"
   ]
  },
  {
   "cell_type": "markdown",
   "id": "9528f5be",
   "metadata": {},
   "source": [
    "# Задание 1\n",
    "\n",
    "Обучите алгоритм Q-learning для сред FrozenLake-v1 и Blackjack-v1, в частности подберите оптимальную alpha. (1 балл)"
   ]
  },
  {
   "cell_type": "markdown",
   "id": "89eab25f",
   "metadata": {},
   "source": [
    "# Задание 2\n",
    "\n",
    "Обучите алгоритм Policy Gradients (или Actor Critic) для среды https://www.gymlibrary.dev/environments/atari/breakout/ . Продемонстрируйте, что для обученного агента растет время игры. (2 балла)"
   ]
  },
  {
   "cell_type": "code",
   "execution_count": 62,
   "outputs": [],
   "source": [
    "import requests\n",
    "r = requests.get('http://www.atarimania.com/roms/Roms.rar')\n",
    "with open('Roms.rar', 'wb') as fout:\n",
    "    fout.write(r.content)\n"
   ],
   "metadata": {
    "collapsed": false,
    "pycharm": {
     "name": "#%%\n"
    }
   }
  },
  {
   "cell_type": "code",
   "execution_count": 64,
   "outputs": [
    {
     "name": "stdout",
     "output_type": "stream",
     "text": [
      "/Users/maratgasanov/opt/anaconda3/bin/python: No module named atari_py.import_roms\r\n"
     ]
    }
   ],
   "source": [
    "!unrar x Roms.rar\n",
    "!mkdir Roms\n",
    "!mv ROMS.zip \"HC ROMS.zip\" Roms\n",
    "!python -m atari_py.import_roms Roms"
   ],
   "metadata": {
    "collapsed": false,
    "pycharm": {
     "name": "#%%\n"
    }
   }
  },
  {
   "cell_type": "code",
   "execution_count": 29,
   "outputs": [],
   "source": [
    "import torch\n",
    "import torch.nn as nn\n",
    "import torch.nn.functional as F\n",
    "from torch.distributions import Bernoulli\n",
    "from torch.autograd import Variable\n",
    "from itertools import count\n",
    "import matplotlib.pyplot as plt\n",
    "import numpy as np\n",
    "import gym\n",
    "from IPython.display import clear_output"
   ],
   "metadata": {
    "collapsed": false,
    "pycharm": {
     "name": "#%%\n"
    }
   }
  },
  {
   "cell_type": "code",
   "execution_count": 61,
   "id": "0fd0b061",
   "metadata": {},
   "outputs": [
    {
     "ename": "NameNotFound",
     "evalue": "Environment Breakout-NoFrameskip-b4 doesn't exist. ",
     "output_type": "error",
     "traceback": [
      "\u001B[0;31m---------------------------------------------------------------------------\u001B[0m",
      "\u001B[0;31mNameNotFound\u001B[0m                              Traceback (most recent call last)",
      "\u001B[0;32m/var/folders/04/7ltt_n9d1z14zmw8_ky4jc5h0000gn/T/ipykernel_69131/3289036563.py\u001B[0m in \u001B[0;36m<module>\u001B[0;34m\u001B[0m\n\u001B[1;32m      4\u001B[0m \u001B[0;34m\u001B[0m\u001B[0m\n\u001B[1;32m      5\u001B[0m \u001B[0;31m#create a single game instance\u001B[0m\u001B[0;34m\u001B[0m\u001B[0;34m\u001B[0m\u001B[0m\n\u001B[0;32m----> 6\u001B[0;31m \u001B[0menv\u001B[0m \u001B[0;34m=\u001B[0m \u001B[0mgym\u001B[0m\u001B[0;34m.\u001B[0m\u001B[0mmake\u001B[0m\u001B[0;34m(\u001B[0m\u001B[0;34m'Breakout-NoFrameskip-b4'\u001B[0m\u001B[0;34m)\u001B[0m\u001B[0;34m\u001B[0m\u001B[0;34m\u001B[0m\u001B[0m\n\u001B[0m\u001B[1;32m      7\u001B[0m \u001B[0;34m\u001B[0m\u001B[0m\n\u001B[1;32m      8\u001B[0m \u001B[0;31m#start new game\u001B[0m\u001B[0;34m\u001B[0m\u001B[0;34m\u001B[0m\u001B[0m\n",
      "\u001B[0;32m~/opt/anaconda3/lib/python3.9/site-packages/gym/envs/registration.py\u001B[0m in \u001B[0;36mmake\u001B[0;34m(id, max_episode_steps, autoreset, apply_api_compatibility, disable_env_checker, **kwargs)\u001B[0m\n\u001B[1;32m    567\u001B[0m \u001B[0;34m\u001B[0m\u001B[0m\n\u001B[1;32m    568\u001B[0m         \u001B[0;32mif\u001B[0m \u001B[0mspec_\u001B[0m \u001B[0;32mis\u001B[0m \u001B[0;32mNone\u001B[0m\u001B[0;34m:\u001B[0m\u001B[0;34m\u001B[0m\u001B[0;34m\u001B[0m\u001B[0m\n\u001B[0;32m--> 569\u001B[0;31m             \u001B[0m_check_version_exists\u001B[0m\u001B[0;34m(\u001B[0m\u001B[0mns\u001B[0m\u001B[0;34m,\u001B[0m \u001B[0mname\u001B[0m\u001B[0;34m,\u001B[0m \u001B[0mversion\u001B[0m\u001B[0;34m)\u001B[0m\u001B[0;34m\u001B[0m\u001B[0;34m\u001B[0m\u001B[0m\n\u001B[0m\u001B[1;32m    570\u001B[0m             \u001B[0;32mraise\u001B[0m \u001B[0merror\u001B[0m\u001B[0;34m.\u001B[0m\u001B[0mError\u001B[0m\u001B[0;34m(\u001B[0m\u001B[0;34mf\"No registered env with id: {id}\"\u001B[0m\u001B[0;34m)\u001B[0m\u001B[0;34m\u001B[0m\u001B[0;34m\u001B[0m\u001B[0m\n\u001B[1;32m    571\u001B[0m \u001B[0;34m\u001B[0m\u001B[0m\n",
      "\u001B[0;32m~/opt/anaconda3/lib/python3.9/site-packages/gym/envs/registration.py\u001B[0m in \u001B[0;36m_check_version_exists\u001B[0;34m(ns, name, version)\u001B[0m\n\u001B[1;32m    217\u001B[0m         \u001B[0;32mreturn\u001B[0m\u001B[0;34m\u001B[0m\u001B[0;34m\u001B[0m\u001B[0m\n\u001B[1;32m    218\u001B[0m \u001B[0;34m\u001B[0m\u001B[0m\n\u001B[0;32m--> 219\u001B[0;31m     \u001B[0m_check_name_exists\u001B[0m\u001B[0;34m(\u001B[0m\u001B[0mns\u001B[0m\u001B[0;34m,\u001B[0m \u001B[0mname\u001B[0m\u001B[0;34m)\u001B[0m\u001B[0;34m\u001B[0m\u001B[0;34m\u001B[0m\u001B[0m\n\u001B[0m\u001B[1;32m    220\u001B[0m     \u001B[0;32mif\u001B[0m \u001B[0mversion\u001B[0m \u001B[0;32mis\u001B[0m \u001B[0;32mNone\u001B[0m\u001B[0;34m:\u001B[0m\u001B[0;34m\u001B[0m\u001B[0;34m\u001B[0m\u001B[0m\n\u001B[1;32m    221\u001B[0m         \u001B[0;32mreturn\u001B[0m\u001B[0;34m\u001B[0m\u001B[0;34m\u001B[0m\u001B[0m\n",
      "\u001B[0;32m~/opt/anaconda3/lib/python3.9/site-packages/gym/envs/registration.py\u001B[0m in \u001B[0;36m_check_name_exists\u001B[0;34m(ns, name)\u001B[0m\n\u001B[1;32m    195\u001B[0m     \u001B[0msuggestion_msg\u001B[0m \u001B[0;34m=\u001B[0m \u001B[0;34mf\"Did you mean: `{suggestion[0]}`?\"\u001B[0m \u001B[0;32mif\u001B[0m \u001B[0msuggestion\u001B[0m \u001B[0;32melse\u001B[0m \u001B[0;34m\"\"\u001B[0m\u001B[0;34m\u001B[0m\u001B[0;34m\u001B[0m\u001B[0m\n\u001B[1;32m    196\u001B[0m \u001B[0;34m\u001B[0m\u001B[0m\n\u001B[0;32m--> 197\u001B[0;31m     raise error.NameNotFound(\n\u001B[0m\u001B[1;32m    198\u001B[0m         \u001B[0;34mf\"Environment {name} doesn't exist{namespace_msg}. {suggestion_msg}\"\u001B[0m\u001B[0;34m\u001B[0m\u001B[0;34m\u001B[0m\u001B[0m\n\u001B[1;32m    199\u001B[0m     )\n",
      "\u001B[0;31mNameNotFound\u001B[0m: Environment Breakout-NoFrameskip-b4 doesn't exist. "
     ]
    }
   ],
   "source": [
    "import matplotlib.pyplot as plt\n",
    "import os\n",
    "os.environ[\"SDL_VIDEODRIVER\"] = \"dummy\"\n",
    "\n",
    "#create a single game instance\n",
    "env = gym.make('Breakout-NoFrameskip-b4')\n",
    "\n",
    "#start new game\n",
    "env.reset()"
   ]
  },
  {
   "cell_type": "code",
   "execution_count": 31,
   "outputs": [],
   "source": [
    "class AtariNet(nn.Module):\n",
    "    def __init__(self, in_size, out_size):\n",
    "        super(AtariNet, self).__init__()\n",
    "        self.fc1 = nn.Linear(in_size, 20)\n",
    "        self.fc2 = nn.Linear(30, 10)\n",
    "        self.fc3 = nn.Linear(10, out_size)\n",
    "\n",
    "    def forward(self, x):\n",
    "        x = torch.nn.ReLU(self.fc1(x))\n",
    "        x = torch.nn.ReLU(self.fc2(x))\n",
    "        x = torch.nn.Sigmoid()(self.fc3(x))\n",
    "        return x\n"
   ],
   "metadata": {
    "collapsed": false,
    "pycharm": {
     "name": "#%%\n"
    }
   }
  },
  {
   "cell_type": "code",
   "execution_count": null,
   "outputs": [],
   "source": [],
   "metadata": {
    "collapsed": false,
    "pycharm": {
     "name": "#%%\n"
    }
   }
  },
  {
   "cell_type": "code",
   "execution_count": 22,
   "outputs": [],
   "source": [
    "\n",
    "\n",
    "class PolicyNet(nn.Module):\n",
    "    def __init__(self):\n",
    "        super(PolicyNet, self).__init__()\n",
    "\n",
    "        self.fc1 = nn.Linear(4, 24)\n",
    "        self.fc2 = nn.Linear(24, 36)\n",
    "        self.fc3 = nn.Linear(36, 1)  # Prob of Left\n",
    "\n",
    "    def forward(self, x):\n",
    "        x = F.relu(self.fc1(x))\n",
    "        x = F.relu(self.fc2(x))\n",
    "        x = F.sigmoid(self.fc3(x))\n",
    "        return x\n",
    "\n",
    "\n",
    "def main():\n",
    "\n",
    "    # Plot duration curve:\n",
    "    # From http://pytorch.org/tutorials/intermediate/reinforcement_q_learning.html\n",
    "    episode_durations = []\n",
    "    def plot_durations():\n",
    "        plt.figure(2)\n",
    "        plt.clf()\n",
    "        durations_t = torch.FloatTensor(episode_durations)\n",
    "        plt.title('Training...')\n",
    "        plt.xlabel('Episode')\n",
    "        plt.ylabel('Duration')\n",
    "        plt.plot(durations_t.numpy())\n",
    "        # Take 100 episode averages and plot them too\n",
    "        if len(durations_t) >= 100:\n",
    "            means = durations_t.unfold(0, 100, 1).mean(1).view(-1)\n",
    "            means = torch.cat((torch.zeros(99), means))\n",
    "            plt.plot(means.numpy())\n",
    "\n",
    "        plt.pause(0.001)  # pause a bit so that plots are updated\n",
    "\n",
    "    # Parameters\n",
    "    num_episode = 5000\n",
    "    batch_size = 5\n",
    "    learning_rate = 0.01\n",
    "    gamma = 0.99\n",
    "\n",
    "    env = gym.make('CartPole-v0')\n",
    "    policy_net = PolicyNet()\n",
    "    optimizer = torch.optim.RMSprop(policy_net.parameters(), lr=learning_rate)\n",
    "\n",
    "    # Batch History\n",
    "    state_pool = []\n",
    "    action_pool = []\n",
    "    reward_pool = []\n",
    "    steps = 0\n",
    "\n",
    "\n",
    "    for e in range(num_episode):\n",
    "        clear_output()\n",
    "\n",
    "        state = env.reset()[0]\n",
    "        state = torch.from_numpy(state).float()\n",
    "        state = Variable(state)\n",
    "        env.render()\n",
    "\n",
    "        for t in count():\n",
    "\n",
    "            probs = policy_net(state)\n",
    "            m = Bernoulli(probs)\n",
    "            action = m.sample()\n",
    "\n",
    "            action = action.data.numpy().astype(int)[0]\n",
    "            next_state, reward, done,_, _ = env.step(action)\n",
    "            env.render()\n",
    "\n",
    "            # To mark boundarys between episodes\n",
    "            if done:\n",
    "                reward = 0\n",
    "\n",
    "            state_pool.append(state)\n",
    "            action_pool.append(float(action))\n",
    "            reward_pool.append(reward)\n",
    "\n",
    "            state = next_state\n",
    "            state = torch.from_numpy(state).float()\n",
    "            state = Variable(state)\n",
    "\n",
    "            steps += 1\n",
    "\n",
    "            if done:\n",
    "                episode_durations.append(t + 1)\n",
    "                plot_durations()\n",
    "                break\n",
    "\n",
    "        # Update policy\n",
    "        if e > 0 and e % batch_size == 0:\n",
    "\n",
    "            # Discount reward\n",
    "            running_add = 0\n",
    "            for i in reversed(range(steps)):\n",
    "                if reward_pool[i] == 0:\n",
    "                    running_add = 0\n",
    "                else:\n",
    "                    running_add = running_add * gamma + reward_pool[i]\n",
    "                    reward_pool[i] = running_add\n",
    "\n",
    "            # Normalize reward\n",
    "            reward_mean = np.mean(reward_pool)\n",
    "            reward_std = np.std(reward_pool)\n",
    "            for i in range(steps):\n",
    "                reward_pool[i] = (reward_pool[i] - reward_mean) / reward_std\n",
    "\n",
    "            # Gradient Desent\n",
    "            optimizer.zero_grad()\n",
    "\n",
    "            for i in range(steps):\n",
    "                state = state_pool[i]\n",
    "                action = Variable(torch.FloatTensor([action_pool[i]]))\n",
    "                reward = reward_pool[i]\n",
    "\n",
    "                probs = policy_net(state)\n",
    "                m = Bernoulli(probs)\n",
    "                loss = -m.log_prob(action) * reward  # Negtive score function x reward\n",
    "                loss.backward()\n",
    "\n",
    "            optimizer.step()\n",
    "\n",
    "            state_pool = []\n",
    "            action_pool = []\n",
    "            reward_pool = []\n",
    "            steps = 0"
   ],
   "metadata": {
    "collapsed": false,
    "pycharm": {
     "name": "#%%\n"
    }
   }
  },
  {
   "cell_type": "code",
   "execution_count": 23,
   "outputs": [
    {
     "name": "stderr",
     "output_type": "stream",
     "text": [
      "/Users/maratgasanov/opt/anaconda3/lib/python3.9/site-packages/gym/envs/classic_control/cartpole.py:211: UserWarning: \u001B[33mWARN: You are calling render method without specifying any render mode. You can specify the render_mode at initialization, e.g. gym(\"CartPole-v0\", render_mode=\"rgb_array\")\u001B[0m\n",
      "  gym.logger.warn(\n"
     ]
    },
    {
     "ename": "KeyboardInterrupt",
     "evalue": "",
     "output_type": "error",
     "traceback": [
      "\u001B[0;31m---------------------------------------------------------------------------\u001B[0m",
      "\u001B[0;31mKeyboardInterrupt\u001B[0m                         Traceback (most recent call last)",
      "\u001B[0;32m/var/folders/04/7ltt_n9d1z14zmw8_ky4jc5h0000gn/T/ipykernel_69131/1759737772.py\u001B[0m in \u001B[0;36m<module>\u001B[0;34m\u001B[0m\n\u001B[0;32m----> 1\u001B[0;31m \u001B[0mmain\u001B[0m\u001B[0;34m(\u001B[0m\u001B[0;34m)\u001B[0m\u001B[0;34m\u001B[0m\u001B[0;34m\u001B[0m\u001B[0m\n\u001B[0m",
      "\u001B[0;32m/var/folders/04/7ltt_n9d1z14zmw8_ky4jc5h0000gn/T/ipykernel_69131/1745398478.py\u001B[0m in \u001B[0;36mmain\u001B[0;34m()\u001B[0m\n\u001B[1;32m     91\u001B[0m \u001B[0;34m\u001B[0m\u001B[0m\n\u001B[1;32m     92\u001B[0m             \u001B[0mstate\u001B[0m \u001B[0;34m=\u001B[0m \u001B[0mnext_state\u001B[0m\u001B[0;34m\u001B[0m\u001B[0;34m\u001B[0m\u001B[0m\n\u001B[0;32m---> 93\u001B[0;31m             \u001B[0mstate\u001B[0m \u001B[0;34m=\u001B[0m \u001B[0mtorch\u001B[0m\u001B[0;34m.\u001B[0m\u001B[0mfrom_numpy\u001B[0m\u001B[0;34m(\u001B[0m\u001B[0mstate\u001B[0m\u001B[0;34m)\u001B[0m\u001B[0;34m.\u001B[0m\u001B[0mfloat\u001B[0m\u001B[0;34m(\u001B[0m\u001B[0;34m)\u001B[0m\u001B[0;34m\u001B[0m\u001B[0;34m\u001B[0m\u001B[0m\n\u001B[0m\u001B[1;32m     94\u001B[0m             \u001B[0mstate\u001B[0m \u001B[0;34m=\u001B[0m \u001B[0mVariable\u001B[0m\u001B[0;34m(\u001B[0m\u001B[0mstate\u001B[0m\u001B[0;34m)\u001B[0m\u001B[0;34m\u001B[0m\u001B[0;34m\u001B[0m\u001B[0m\n\u001B[1;32m     95\u001B[0m \u001B[0;34m\u001B[0m\u001B[0m\n",
      "\u001B[0;31mKeyboardInterrupt\u001B[0m: "
     ]
    }
   ],
   "source": [
    "main()"
   ],
   "metadata": {
    "collapsed": false,
    "pycharm": {
     "name": "#%%\n"
    }
   }
  },
  {
   "cell_type": "code",
   "execution_count": 26,
   "outputs": [
    {
     "ename": "NameError",
     "evalue": "name 'env' is not defined",
     "output_type": "error",
     "traceback": [
      "\u001B[0;31m---------------------------------------------------------------------------\u001B[0m",
      "\u001B[0;31mNameError\u001B[0m                                 Traceback (most recent call last)",
      "\u001B[0;32m/var/folders/04/7ltt_n9d1z14zmw8_ky4jc5h0000gn/T/ipykernel_69131/3447631947.py\u001B[0m in \u001B[0;36m<module>\u001B[0;34m\u001B[0m\n\u001B[0;32m----> 1\u001B[0;31m \u001B[0menv\u001B[0m\u001B[0;34m.\u001B[0m\u001B[0mreset\u001B[0m\u001B[0;34m(\u001B[0m\u001B[0;34m)\u001B[0m\u001B[0;34m\u001B[0m\u001B[0;34m\u001B[0m\u001B[0m\n\u001B[0m",
      "\u001B[0;31mNameError\u001B[0m: name 'env' is not defined"
     ]
    }
   ],
   "source": [],
   "metadata": {
    "collapsed": false,
    "pycharm": {
     "name": "#%%\n"
    }
   }
  },
  {
   "cell_type": "code",
   "execution_count": null,
   "outputs": [],
   "source": [],
   "metadata": {
    "collapsed": false,
    "pycharm": {
     "name": "#%%\n"
    }
   }
  }
 ],
 "metadata": {
  "kernelspec": {
   "display_name": "Python 3 (ipykernel)",
   "language": "python",
   "name": "python3"
  },
  "language_info": {
   "codemirror_mode": {
    "name": "ipython",
    "version": 3
   },
   "file_extension": ".py",
   "mimetype": "text/x-python",
   "name": "python",
   "nbconvert_exporter": "python",
   "pygments_lexer": "ipython3",
   "version": "3.9.15"
  }
 },
 "nbformat": 4,
 "nbformat_minor": 5
}