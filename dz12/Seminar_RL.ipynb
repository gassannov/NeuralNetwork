{
 "cells": [
  {
   "cell_type": "markdown",
   "source": [
    "# Задача 1 - q_table"
   ],
   "metadata": {
    "collapsed": false
   }
  },
  {
   "cell_type": "code",
   "execution_count": 7,
   "outputs": [],
   "source": [
    "import matplotlib.pyplot as plt\n",
    "import os\n",
    "os.environ[\"SDL_VIDEODRIVER\"] = \"dummy\"\n",
    "from IPython.display import clear_output\n",
    "\n",
    "import gym\n",
    "import numpy as np\n",
    "from gym.envs.toy_text.frozen_lake import generate_random_map\n",
    "\n",
    "#create a single game instance\n",
    "test_env = gym.make(\"FrozenLake-v1\", map_name=\"8x8\", render_mode=\"rgb_array\", is_slippery=True)\n",
    "\n",
    "#start new game\n",
    "test_env.reset();"
   ],
   "metadata": {
    "collapsed": false,
    "pycharm": {
     "name": "#%%\n"
    }
   }
  },
  {
   "cell_type": "code",
   "execution_count": 8,
   "outputs": [],
   "source": [
    "def evaluate_qtable(env, qtable):\n",
    "    nb_success = 0\n",
    "    for _ in range(100):\n",
    "        state = env.reset()[0]\n",
    "        done = False\n",
    "        while not done:\n",
    "            if np.max(qtable[state]) > 0:\n",
    "                action = np.argmax(qtable[state])\n",
    "            else:\n",
    "                action = env.action_space.sample()\n",
    "            new_state, reward, done, _, info = env.step(action)\n",
    "            state = new_state\n",
    "            nb_success += reward\n",
    "    return nb_success/100"
   ],
   "metadata": {
    "collapsed": false,
    "pycharm": {
     "name": "#%%\n"
    }
   }
  },
  {
   "cell_type": "code",
   "execution_count": 48,
   "outputs": [],
   "source": [
    "environment = gym.make(\"FrozenLake-v1\", is_slippery=False)"
   ],
   "metadata": {
    "collapsed": false,
    "pycharm": {
     "name": "#%%\n"
    }
   }
  },
  {
   "cell_type": "code",
   "execution_count": 49,
   "outputs": [],
   "source": [
    "def make_q_table(env, episodes=1000, alpha=0.5, gamma=0.9 ):\n",
    "    qtable = np.zeros((env.observation_space.n, env.action_space.n))\n",
    "    for _ in range(episodes):\n",
    "        state = env.reset()[0]\n",
    "        done = False\n",
    "        outcomes = []\n",
    "        outcomes.append(\"Failure\")\n",
    "        while not done:\n",
    "            if np.max(qtable[state]) > 0:\n",
    "                action = np.argmax(qtable[state])\n",
    "            else:\n",
    "                action = env.action_space.sample()\n",
    "            new_state, reward, a, b, info = env.step(action)\n",
    "            done = a or b\n",
    "            qtable[state, action] = qtable[state, action] + \\\n",
    "                                alpha * (reward + gamma * np.max(qtable[new_state]) - qtable[state, action])\n",
    "            state = new_state\n",
    "            if reward:\n",
    "                outcomes[-1] = \"Success\"\n",
    "    return qtable"
   ],
   "metadata": {
    "collapsed": false,
    "pycharm": {
     "name": "#%%\n"
    }
   }
  },
  {
   "cell_type": "code",
   "execution_count": 50,
   "outputs": [],
   "source": [
    "q_table = make_q_table(environment)"
   ],
   "metadata": {
    "collapsed": false,
    "pycharm": {
     "name": "#%%\n"
    }
   }
  },
  {
   "cell_type": "code",
   "execution_count": 47,
   "outputs": [
    {
     "data": {
      "text/plain": "1.0"
     },
     "execution_count": 47,
     "metadata": {},
     "output_type": "execute_result"
    }
   ],
   "source": [
    "evaluate_qtable(environment, q_table)"
   ],
   "metadata": {
    "collapsed": false,
    "pycharm": {
     "name": "#%%\n"
    }
   }
  }
 ],
 "metadata": {
  "kernelspec": {
   "display_name": "Python 3 (ipykernel)",
   "language": "python",
   "name": "python3"
  },
  "language_info": {
   "codemirror_mode": {
    "name": "ipython",
    "version": 3
   },
   "file_extension": ".py",
   "mimetype": "text/x-python",
   "name": "python",
   "nbconvert_exporter": "python",
   "pygments_lexer": "ipython3",
   "version": "3.9.15"
  }
 },
 "nbformat": 4,
 "nbformat_minor": 1
}