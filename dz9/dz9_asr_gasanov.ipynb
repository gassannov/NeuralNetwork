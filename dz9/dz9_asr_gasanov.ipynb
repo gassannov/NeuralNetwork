{
 "cells": [
  {
   "cell_type": "code",
   "execution_count": 2,
   "metadata": {
    "id": "Ne9-zUwATwgm",
    "colab": {
     "base_uri": "https://localhost:8080/"
    },
    "outputId": "41485c0e-2f3d-4d97-debb-c382dcd92fbd"
   },
   "outputs": [
    {
     "name": "stdout",
     "output_type": "stream",
     "text": [
      "Requirement already satisfied: mpire in /Users/maratgasanov/opt/anaconda3/lib/python3.9/site-packages (2.6.0)\r\n",
      "Requirement already satisfied: pygments>=2.0 in /Users/maratgasanov/opt/anaconda3/lib/python3.9/site-packages (from mpire) (2.10.0)\r\n",
      "Requirement already satisfied: tqdm>=4.27 in /Users/maratgasanov/opt/anaconda3/lib/python3.9/site-packages (from mpire) (4.62.3)\r\n",
      "Requirement already satisfied: Levenshtein in /Users/maratgasanov/opt/anaconda3/lib/python3.9/site-packages (0.20.8)\r\n",
      "Requirement already satisfied: rapidfuzz<3.0.0,>=2.3.0 in /Users/maratgasanov/opt/anaconda3/lib/python3.9/site-packages (from Levenshtein) (2.13.2)\r\n",
      "Collecting pickle5\r\n",
      "  Downloading pickle5-0.0.11.tar.gz (132 kB)\r\n",
      "\u001B[2K     \u001B[90m━━━━━━━━━━━━━━━━━━━━━━━━━━━━━━━━━━━━━━━\u001B[0m \u001B[32m132.1/132.1 kB\u001B[0m \u001B[31m1.3 MB/s\u001B[0m eta \u001B[36m0:00:00\u001B[0ma \u001B[36m0:00:01\u001B[0m\r\n",
      "\u001B[?25h  Preparing metadata (setup.py) ... \u001B[?25ldone\r\n",
      "\u001B[?25hBuilding wheels for collected packages: pickle5\r\n",
      "  Building wheel for pickle5 (setup.py) ... \u001B[?25ldone\r\n",
      "\u001B[?25h  Created wheel for pickle5: filename=pickle5-0.0.11-cp39-cp39-macosx_10_9_x86_64.whl size=121942 sha256=579835cf3c38c7ad9246f0827ccbc791d6e60b85e33a12dcd4d2a099a25c6941\r\n",
      "  Stored in directory: /Users/maratgasanov/Library/Caches/pip/wheels/88/4c/aa/1a15028eabfa43149f49b7043d35265ef9ad2cd68e61e6f870\r\n",
      "Successfully built pickle5\r\n",
      "Installing collected packages: pickle5\r\n",
      "Successfully installed pickle5-0.0.11\r\n"
     ]
    }
   ],
   "source": [
    "! pip install mpire\n",
    "! pip install Levenshtein\n",
    "! pip3 install pickle5"
   ]
  },
  {
   "cell_type": "code",
   "execution_count": 1,
   "metadata": {
    "id": "m5lg_6CRhi7F",
    "colab": {
     "base_uri": "https://localhost:8080/"
    },
    "outputId": "05cf2c3e-1845-41a9-bedc-cb54b3d640fc"
   },
   "outputs": [
    {
     "ename": "ModuleNotFoundError",
     "evalue": "No module named 'google.colab'",
     "output_type": "error",
     "traceback": [
      "\u001B[0;31m---------------------------------------------------------------------------\u001B[0m",
      "\u001B[0;31mModuleNotFoundError\u001B[0m                       Traceback (most recent call last)",
      "\u001B[0;32m/var/folders/04/7ltt_n9d1z14zmw8_ky4jc5h0000gn/T/ipykernel_5887/907070862.py\u001B[0m in \u001B[0;36m<module>\u001B[0;34m\u001B[0m\n\u001B[0;32m----> 1\u001B[0;31m \u001B[0;32mfrom\u001B[0m \u001B[0mgoogle\u001B[0m\u001B[0;34m.\u001B[0m\u001B[0mcolab\u001B[0m \u001B[0;32mimport\u001B[0m \u001B[0mdrive\u001B[0m\u001B[0;34m\u001B[0m\u001B[0;34m\u001B[0m\u001B[0m\n\u001B[0m\u001B[1;32m      2\u001B[0m \u001B[0mdrive\u001B[0m\u001B[0;34m.\u001B[0m\u001B[0mmount\u001B[0m\u001B[0;34m(\u001B[0m\u001B[0;34m'/content/drive'\u001B[0m\u001B[0;34m)\u001B[0m\u001B[0;34m\u001B[0m\u001B[0;34m\u001B[0m\u001B[0m\n",
      "\u001B[0;31mModuleNotFoundError\u001B[0m: No module named 'google.colab'"
     ]
    }
   ],
   "source": [
    "from google.colab import drive\n",
    "drive.mount('/content/drive')"
   ]
  },
  {
   "cell_type": "code",
   "execution_count": 7,
   "metadata": {
    "id": "7UjYqp0MT7Qf"
   },
   "outputs": [],
   "source": [
    "from typing import List\n",
    "import torch\n",
    "import pickle5 as pickle\n",
    "import math\n",
    "from collections import defaultdict\n",
    "import numpy as np\n",
    "from tqdm.auto import tqdm\n",
    "import re\n",
    "from matplotlib import pyplot as plt\n",
    "\n",
    "# будем использовать mpire для ускорения\n",
    "# на некоторых системах есть проблема с кол-вом открываемвых\n",
    "# файловы дескрипторов, поэтому разрешим нашему процессу\n",
    "# создавать их в большЕм количестве\n",
    "\n",
    "# from mpire import WorkerPool\n",
    "import resource\n",
    "soft, hard = resource.getrlimit(resource.RLIMIT_NOFILE)\n",
    "resource.setrlimit(resource.RLIMIT_NOFILE, (hard, hard))"
   ]
  },
  {
   "cell_type": "code",
   "execution_count": 4,
   "metadata": {
    "id": "t7bmIM9zT_UJ"
   },
   "outputs": [],
   "source": [
    "TEST_CTC_DATASET_PATH = 'dz9_asr_test_data.pt'\n",
    "VOCAB_PKL_PATH = 'dz9_asr_vocab.pkl'"
   ]
  },
  {
   "cell_type": "code",
   "execution_count": 5,
   "metadata": {
    "id": "GgbQCS5rUDoI"
   },
   "outputs": [],
   "source": [
    "dataset = torch.load(TEST_CTC_DATASET_PATH)\n",
    "with open(VOCAB_PKL_PATH, 'rb') as fin:\n",
    "    vocab_dict = pickle.load(fin)"
   ]
  },
  {
   "cell_type": "code",
   "execution_count": 6,
   "metadata": {
    "id": "RMSQ0H2Ulg4l",
    "colab": {
     "base_uri": "https://localhost:8080/"
    },
    "outputId": "acb7b8dd-a274-4027-f752-bd4b86b085a8"
   },
   "outputs": [
    {
     "data": {
      "text/plain": "torch.Size([1, 291, 39])"
     },
     "execution_count": 6,
     "metadata": {},
     "output_type": "execute_result"
    }
   ],
   "source": [
    "dataset[0][0].shape"
   ]
  },
  {
   "cell_type": "code",
   "execution_count": 7,
   "metadata": {
    "id": "kyJgZ4GlmyX8",
    "colab": {
     "base_uri": "https://localhost:8080/"
    },
    "outputId": "f2524dab-2491-469d-d31e-84fd7c5ce2f4"
   },
   "outputs": [
    {
     "data": {
      "text/plain": "39"
     },
     "execution_count": 7,
     "metadata": {},
     "output_type": "execute_result"
    }
   ],
   "source": [
    "len(vocab_dict)"
   ]
  },
  {
   "cell_type": "markdown",
   "metadata": {
    "id": "aMT85W3qUPz4"
   },
   "source": [
    "# Часть 1. Метрики."
   ]
  },
  {
   "cell_type": "code",
   "execution_count": 8,
   "metadata": {
    "id": "j6woCiTBUDmT"
   },
   "outputs": [],
   "source": [
    "# поможем себе с расстоянием Левенштейна\n",
    "import Levenshtein\n",
    "\n",
    "# Будем использовать эту функцию для нормализации текстов перед замером CER / WER\n",
    "ALLOWED_SYMBOLS = re.compile(r\"(^[a-zа-я\\s]+$)\")\n",
    "def normalize_text(text: str) -> str:\n",
    "    \"\"\"\n",
    "    В датасетах, иногда встречается '-', 'ё', апострофы и большие буквы. А мы хотим, чтобы:\n",
    "        WER(\"Ростов-на-дону\", \"ростов на дону\") == 0\n",
    "        WER(\"It's\", \"it s\") == 0\n",
    "        WER(\"ёлки палки\", \"елки палки\") == 0\n",
    "    Поэтому заменяем в target'ах 'ё' на 'е', а '-' на ' ' и т. д.\n",
    "    Кроме того на всякий случай удаляем лишние пробелы.\n",
    "    И проверяем что в получившейся строке только допустимые символы.\n",
    "    \"\"\"\n",
    "    assert isinstance(text, str)\n",
    "    text = text.lower().strip().replace(\"ё\", \"е\")\n",
    "    text = re.sub(r\"\\W+\", \" \", text)\n",
    "    text = re.sub(r\"\\s+\", \" \", text)\n",
    "    text = text.strip().split(\" \")\n",
    "    text = \" \".join(word for word in text if len(word) > 0)\n",
    "    assert (text == \"\") or ALLOWED_SYMBOLS.match(text)\n",
    "    return text\n",
    "\n",
    "def wer(ground_truth: str, predicted: str) -> float:\n",
    "    ground_truth = ground_truth.split(' ')\n",
    "    predicted = predicted.split(' ')\n",
    "    return Levenshtein.distance(ground_truth, predicted)\n",
    "\n",
    "def cer(ground_truth: str, predicted: str) -> float:\n",
    "    return Levenshtein.distance(ground_truth, predicted)\n",
    "\n",
    "# Функции для расчета relative CER / WER\n",
    "# В функции нужно подавать строки обработанные методом normalize_text\n",
    "def relative_cer(ground_truth: str, predicted: str) -> float:\n",
    "    assert isinstance(ground_truth, str)\n",
    "    assert isinstance(predicted, str)\n",
    "    return min(1, cer(ground_truth, predicted) / (len(ground_truth) + 1e-10))\n",
    "\n",
    "def relative_wer(ground_truth: str, predicted: str) -> float:\n",
    "    assert isinstance(ground_truth, str)\n",
    "    assert isinstance(predicted, str)\n",
    "    gt_len = ground_truth.count(\" \") + 1\n",
    "    return min(1, wer(ground_truth, predicted) / (gt_len + 1e-10))\n",
    "\n",
    "# Функции для расчета ORACLE relative CER / WER - тут мы выбираем лучшую гипотезу из beam'a\n",
    "# В функции нужно подавать строки обработанные методом normalize_text\n",
    "def oracle_relative_cer(ground_truth: str, predicted: List[str]) -> float:\n",
    "    return min(relative_cer(normalize_text(ground_truth), normalize_text(hypo)) for hypo in predicted)\n",
    "\n",
    "def oracle_relative_wer(ground_truth: str, predicted: List[str]) -> float:\n",
    "    return min(relative_wer(normalize_text(ground_truth), normalize_text(hypo)) for hypo in predicted)"
   ]
  },
  {
   "cell_type": "code",
   "execution_count": 9,
   "metadata": {
    "id": "BCPYGvKzUDju"
   },
   "outputs": [],
   "source": [
    "# Тесты для проверки правильности реализации cer/wer \n",
    "assert(cer(normalize_text(\"алёнка родила девчёнку\"), normalize_text(\"аленка радила девченку Инну\")) == 6)\n",
    "assert(wer(normalize_text(\"алёнка родила девчёнку\"), normalize_text(\"аленка радила девченку Инну\")) == 2)\n",
    "\n",
    "assert(cer(normalize_text(\"\"), normalize_text(\"\")) == 0)\n",
    "assert(wer(normalize_text(\"\"), normalize_text(\"\")) == 0)\n",
    "\n",
    "assert(cer(normalize_text(\"Ростов-на-дону\"), normalize_text(\"ростов на дону\")) == 0)\n",
    "assert(wer(normalize_text(\"Ростов-на-дону\"), normalize_text(\"ростов на дону\")) == 0)\n",
    "\n",
    "assert(cer(normalize_text(\"It's\"), normalize_text(\"it s\")) == 0)\n",
    "assert(wer(normalize_text(\"It's\"), normalize_text(\"it s\")) == 0)"
   ]
  },
  {
   "cell_type": "markdown",
   "metadata": {
    "id": "1HAZBGoTUSPl"
   },
   "source": [
    "# Часть 2. CTC декодинг."
   ]
  },
  {
   "cell_type": "code",
   "execution_count": 10,
   "metadata": {
    "id": "TBPbwoJhECt2"
   },
   "outputs": [],
   "source": [
    "from math import log"
   ]
  },
  {
   "cell_type": "code",
   "execution_count": 11,
   "metadata": {
    "id": "gtopQMKoUIT5"
   },
   "outputs": [],
   "source": [
    "class CTCDecoder:\n",
    "    \n",
    "    def __init__(self, vocab_dict):\n",
    "        self.vocab = vocab_dict\n",
    "        \n",
    "        # Id специальных токенов в словаре\n",
    "        self.blank_id = 0\n",
    "        self.bos_id = 1\n",
    "        self.eos_id = 2\n",
    "        self.unk_id = 3\n",
    "        self.word_sep_id = 4 \n",
    "        # word_sep_id должен быть заменен на пробел при декодировании\n",
    "        # и не забудьте удалить пробелы в конце строки!\n",
    "\n",
    "    def process_symbols(self, symbols:list):\n",
    "      str = ''\n",
    "      for i in range(len(symbols)-1):\n",
    "        if symbols[i] == 0:\n",
    "          continue\n",
    "        if symbols[i+1] == symbols[i]:\n",
    "          continue\n",
    "        if symbols[i] == 4:\n",
    "          str += ' '\n",
    "          continue\n",
    "        str += self.vocab[symbols[i]]\n",
    "\n",
    "      return str\n",
    "        \n",
    "    def argmax_decode(self, ctc_logits: torch.tensor) -> str:\n",
    "        '''\n",
    "        ctc_logits - ctc-матрица логитов размерности [TIME, VOCAB]\n",
    "        '''\n",
    "        assert ctc_logits.shape[1] == len(self.vocab)\n",
    "        prob = torch.nn.functional.softmax(ctc_logits, dim=-1)\n",
    "        ids = prob.max(-1)[1]\n",
    "        return self.process_symbols(ids.numpy())\n",
    "    \n",
    "    def beam_search_decode(self, ctc_logits: torch.tensor, beam_size: int=16) -> List[str]:\n",
    "        '''\n",
    "        ctc_logits - ctc-матрица логитов размерности [TIME, VOCAB]\n",
    "        beam_size - размер бима(луча)\n",
    "        '''\n",
    "        # Здесь должен быть ваш код, который будет оцениваться\n",
    "        sequences = [[list(), 0.0]]\n",
    "        ctc_logits = torch.nn.functional.softmax(ctc_logits, dim=-1)\n",
    "        ctc_logits = ctc_logits.numpy()\n",
    "\t      # walk over each step in sequence\n",
    "        for row in ctc_logits:\n",
    "          all_candidates = list()\n",
    "\t\t      # expand each current candidate\n",
    "          for i in range(len(sequences)):\n",
    "            seq, score = sequences[i]\n",
    "            for j in range(len(row)):\n",
    "              candidate = [seq + [j], score - log(row[j])]\n",
    "              all_candidates.append(candidate)\n",
    "\t        # order all candidates by score\n",
    "          ordered = sorted(all_candidates, key=lambda tup:tup[1])\n",
    "\t\t      # select k best\n",
    "          sequences = ordered[:beam_size]\n",
    "        return [self.process_symbols(sequence[0]) for sequence in sequences]"
   ]
  },
  {
   "cell_type": "code",
   "execution_count": 12,
   "metadata": {
    "id": "wXrPcd0wUIMD"
   },
   "outputs": [],
   "source": [
    "ctc_decoder = CTCDecoder(vocab_dict)"
   ]
  },
  {
   "cell_type": "markdown",
   "metadata": {
    "id": "tZh0wks3UZGr"
   },
   "source": [
    "## <font color='red'>Внимание!</font> Далее ВЕЗДЕ используем только relative версии рассчета CER / WER и их oracle версии."
   ]
  },
  {
   "cell_type": "markdown",
   "metadata": {
    "id": "7dtDwgiTUbnq"
   },
   "source": [
    "### Argmax декодинг."
   ]
  },
  {
   "cell_type": "code",
   "execution_count": 13,
   "metadata": {
    "id": "Wwjm41MDUICJ",
    "colab": {
     "base_uri": "https://localhost:8080/"
    },
    "outputId": "95c449fb-8415-4e5f-b67e-ffcaf5fd06a9"
   },
   "outputs": [
    {
     "name": "stdout",
     "output_type": "stream",
     "text": [
      "Mean CER in argmax decoding : 0.040561903129852875\n",
      "Mean WER in argmax decoding : 0.15567387844386432\n"
     ]
    }
   ],
   "source": [
    "# Рассчитаем усредненный по всему датасету relative CER / WER для ARGMAX варианта декодирования\n",
    "cer_argmax = 0\n",
    "wer_argmax = 0\n",
    "\n",
    "for i in range(len(dataset)):\n",
    "  predict = ctc_decoder.argmax_decode(dataset[i][0][0])\n",
    "  ground_truth = dataset[i][1]\n",
    "  cer_argmax += relative_cer(normalize_text(ground_truth), normalize_text(predict))\n",
    "  wer_argmax += relative_wer(normalize_text(ground_truth), normalize_text(predict))\n",
    "\n",
    "cer_argmax /= len(dataset)\n",
    "wer_argmax /= len(dataset)\n",
    "\n",
    "\n",
    "print(f\"Mean CER in argmax decoding : {cer_argmax}\")\n",
    "print(f\"Mean WER in argmax decoding : {wer_argmax}\")"
   ]
  },
  {
   "cell_type": "markdown",
   "metadata": {
    "id": "65xRXzc4UeLZ"
   },
   "source": [
    "## Вопрос №1: Как соотносятся WER и CER в задаче ASR?"
   ]
  },
  {
   "cell_type": "markdown",
   "metadata": {
    "id": "2PmnB91TUf4V"
   },
   "source": [
    "## Ответ: \n",
    "### - mean cer получился в разы меньше. Так, получилось, из-за того, что (слов с ошибкой)/(все слова) намного больше чем (символы с ошибкой)(все символы), так как даже ошибка в одном символе сделает нерелевантным все слово   "
   ]
  },
  {
   "cell_type": "code",
   "execution_count": 14,
   "metadata": {
    "id": "fnYYzzq8Rhe1"
   },
   "outputs": [],
   "source": [
    "from tqdm.notebook import tqdm"
   ]
  },
  {
   "cell_type": "code",
   "execution_count": 16,
   "metadata": {
    "id": "li9_TijJWgd4"
   },
   "outputs": [],
   "source": [
    "forks_num = 50\n",
    "def beam_search_errors(fork_id):\n",
    "  cer_bs1 = 0\n",
    "  wer_bs1 = 0\n",
    "  # left = int(len(dataset)*fork_id/forks_num)\n",
    "  # right = int(len(dataset)*(fork_id+1)/forks_num)\n",
    "  left = 0\n",
    "  right = len(dataset)\n",
    "  for i in tqdm(range(left, right)):\n",
    "    predict = ctc_decoder.beam_search_decode(dataset[i][0][0], beam_size=1)\n",
    "    ground_truth = dataset[i][1]\n",
    "    cer_bs1 += oracle_relative_cer(ground_truth, predict)\n",
    "    wer_bs1 += oracle_relative_wer(ground_truth, predict)\n",
    "  return cer_bs1, wer_bs1"
   ]
  },
  {
   "cell_type": "code",
   "execution_count": 18,
   "metadata": {
    "id": "T1jLZGc-UIAE",
    "colab": {
     "base_uri": "https://localhost:8080/",
     "height": 83,
     "referenced_widgets": [
      "e3ef727159ff47ef8bd139b03f8d763e",
      "74abc83b391044c7aa8a9b92f2d03357",
      "3f5cdc6eee8c428887e70e31de281009",
      "15d0ef23a5e4402895904a4e75382f6a",
      "ff84521150a04522a9964249748f9c28",
      "4aa49c75a337465aa6ce61d3a410313d",
      "f2b0ec51246442c1b2739f477f85d597",
      "6778b44c74344eadafe43a6e4ace638d",
      "ccc07fa0a5f646209b0660f0ff56f77c",
      "479da48233e3417889975bf967ae1f54",
      "5ab975ae42264254aca4e267f69b3452"
     ]
    },
    "outputId": "f260d5a1-ca74-4ba9-9421-abcce7f6d52f"
   },
   "outputs": [
    {
     "data": {
      "text/plain": "  0%|          | 0/9630 [00:00<?, ?it/s]",
      "application/vnd.jupyter.widget-view+json": {
       "version_major": 2,
       "version_minor": 0,
       "model_id": "10a07c32628e447b82be0b7676dd0c26"
      }
     },
     "metadata": {},
     "output_type": "display_data"
    },
    {
     "ename": "KeyboardInterrupt",
     "evalue": "",
     "output_type": "error",
     "traceback": [
      "\u001B[0;31m---------------------------------------------------------------------------\u001B[0m",
      "\u001B[0;31mKeyboardInterrupt\u001B[0m                         Traceback (most recent call last)",
      "\u001B[0;32m/var/folders/04/7ltt_n9d1z14zmw8_ky4jc5h0000gn/T/ipykernel_6130/2773196673.py\u001B[0m in \u001B[0;36m<module>\u001B[0;34m\u001B[0m\n\u001B[1;32m     10\u001B[0m \u001B[0;31m#   cer_bs1 += oracle_relative_cer(ground_truth, predict)\u001B[0m\u001B[0;34m\u001B[0m\u001B[0;34m\u001B[0m\u001B[0m\n\u001B[1;32m     11\u001B[0m \u001B[0;31m#   wer_bs1 += oracle_relative_wer(ground_truth, predict)\u001B[0m\u001B[0;34m\u001B[0m\u001B[0;34m\u001B[0m\u001B[0m\n\u001B[0;32m---> 12\u001B[0;31m \u001B[0mresults\u001B[0m \u001B[0;34m=\u001B[0m \u001B[0;34m[\u001B[0m\u001B[0mbeam_search_errors\u001B[0m\u001B[0;34m(\u001B[0m\u001B[0;36m0\u001B[0m\u001B[0;34m)\u001B[0m\u001B[0;34m]\u001B[0m\u001B[0;34m\u001B[0m\u001B[0;34m\u001B[0m\u001B[0m\n\u001B[0m\u001B[1;32m     13\u001B[0m \u001B[0;31m# with WorkerPool(n_jobs=forks_num) as pool:\u001B[0m\u001B[0;34m\u001B[0m\u001B[0;34m\u001B[0m\u001B[0m\n\u001B[1;32m     14\u001B[0m \u001B[0;31m#   results = pool.map(beam_search_errors, range(forks_num), progress_bar=True)\u001B[0m\u001B[0;34m\u001B[0m\u001B[0;34m\u001B[0m\u001B[0m\n",
      "\u001B[0;32m/var/folders/04/7ltt_n9d1z14zmw8_ky4jc5h0000gn/T/ipykernel_6130/3077556810.py\u001B[0m in \u001B[0;36mbeam_search_errors\u001B[0;34m(fork_id)\u001B[0m\n\u001B[1;32m      8\u001B[0m   \u001B[0mright\u001B[0m \u001B[0;34m=\u001B[0m \u001B[0mlen\u001B[0m\u001B[0;34m(\u001B[0m\u001B[0mdataset\u001B[0m\u001B[0;34m)\u001B[0m\u001B[0;34m\u001B[0m\u001B[0;34m\u001B[0m\u001B[0m\n\u001B[1;32m      9\u001B[0m   \u001B[0;32mfor\u001B[0m \u001B[0mi\u001B[0m \u001B[0;32min\u001B[0m \u001B[0mtqdm\u001B[0m\u001B[0;34m(\u001B[0m\u001B[0mrange\u001B[0m\u001B[0;34m(\u001B[0m\u001B[0mleft\u001B[0m\u001B[0;34m,\u001B[0m \u001B[0mright\u001B[0m\u001B[0;34m)\u001B[0m\u001B[0;34m)\u001B[0m\u001B[0;34m:\u001B[0m\u001B[0;34m\u001B[0m\u001B[0;34m\u001B[0m\u001B[0m\n\u001B[0;32m---> 10\u001B[0;31m     \u001B[0mpredict\u001B[0m \u001B[0;34m=\u001B[0m \u001B[0mctc_decoder\u001B[0m\u001B[0;34m.\u001B[0m\u001B[0mbeam_search_decode\u001B[0m\u001B[0;34m(\u001B[0m\u001B[0mdataset\u001B[0m\u001B[0;34m[\u001B[0m\u001B[0mi\u001B[0m\u001B[0;34m]\u001B[0m\u001B[0;34m[\u001B[0m\u001B[0;36m0\u001B[0m\u001B[0;34m]\u001B[0m\u001B[0;34m[\u001B[0m\u001B[0;36m0\u001B[0m\u001B[0;34m]\u001B[0m\u001B[0;34m,\u001B[0m \u001B[0mbeam_size\u001B[0m\u001B[0;34m=\u001B[0m\u001B[0;36m1\u001B[0m\u001B[0;34m)\u001B[0m\u001B[0;34m\u001B[0m\u001B[0;34m\u001B[0m\u001B[0m\n\u001B[0m\u001B[1;32m     11\u001B[0m     \u001B[0mground_truth\u001B[0m \u001B[0;34m=\u001B[0m \u001B[0mdataset\u001B[0m\u001B[0;34m[\u001B[0m\u001B[0mi\u001B[0m\u001B[0;34m]\u001B[0m\u001B[0;34m[\u001B[0m\u001B[0;36m1\u001B[0m\u001B[0;34m]\u001B[0m\u001B[0;34m\u001B[0m\u001B[0;34m\u001B[0m\u001B[0m\n\u001B[1;32m     12\u001B[0m     \u001B[0mcer_bs1\u001B[0m \u001B[0;34m+=\u001B[0m \u001B[0moracle_relative_cer\u001B[0m\u001B[0;34m(\u001B[0m\u001B[0mground_truth\u001B[0m\u001B[0;34m,\u001B[0m \u001B[0mpredict\u001B[0m\u001B[0;34m)\u001B[0m\u001B[0;34m\u001B[0m\u001B[0;34m\u001B[0m\u001B[0m\n",
      "\u001B[0;32m/var/folders/04/7ltt_n9d1z14zmw8_ky4jc5h0000gn/T/ipykernel_6130/281090274.py\u001B[0m in \u001B[0;36mbeam_search_decode\u001B[0;34m(self, ctc_logits, beam_size)\u001B[0m\n\u001B[1;32m     52\u001B[0m             \u001B[0mseq\u001B[0m\u001B[0;34m,\u001B[0m \u001B[0mscore\u001B[0m \u001B[0;34m=\u001B[0m \u001B[0msequences\u001B[0m\u001B[0;34m[\u001B[0m\u001B[0mi\u001B[0m\u001B[0;34m]\u001B[0m\u001B[0;34m\u001B[0m\u001B[0;34m\u001B[0m\u001B[0m\n\u001B[1;32m     53\u001B[0m             \u001B[0;32mfor\u001B[0m \u001B[0mj\u001B[0m \u001B[0;32min\u001B[0m \u001B[0mrange\u001B[0m\u001B[0;34m(\u001B[0m\u001B[0mlen\u001B[0m\u001B[0;34m(\u001B[0m\u001B[0mrow\u001B[0m\u001B[0;34m)\u001B[0m\u001B[0;34m)\u001B[0m\u001B[0;34m:\u001B[0m\u001B[0;34m\u001B[0m\u001B[0;34m\u001B[0m\u001B[0m\n\u001B[0;32m---> 54\u001B[0;31m               \u001B[0mcandidate\u001B[0m \u001B[0;34m=\u001B[0m \u001B[0;34m[\u001B[0m\u001B[0mseq\u001B[0m \u001B[0;34m+\u001B[0m \u001B[0;34m[\u001B[0m\u001B[0mj\u001B[0m\u001B[0;34m]\u001B[0m\u001B[0;34m,\u001B[0m \u001B[0mscore\u001B[0m \u001B[0;34m-\u001B[0m \u001B[0mlog\u001B[0m\u001B[0;34m(\u001B[0m\u001B[0mrow\u001B[0m\u001B[0;34m[\u001B[0m\u001B[0mj\u001B[0m\u001B[0;34m]\u001B[0m\u001B[0;34m)\u001B[0m\u001B[0;34m]\u001B[0m\u001B[0;34m\u001B[0m\u001B[0;34m\u001B[0m\u001B[0m\n\u001B[0m\u001B[1;32m     55\u001B[0m               \u001B[0mall_candidates\u001B[0m\u001B[0;34m.\u001B[0m\u001B[0mappend\u001B[0m\u001B[0;34m(\u001B[0m\u001B[0mcandidate\u001B[0m\u001B[0;34m)\u001B[0m\u001B[0;34m\u001B[0m\u001B[0;34m\u001B[0m\u001B[0m\n\u001B[1;32m     56\u001B[0m                 \u001B[0;31m# order all candidates by score\u001B[0m\u001B[0;34m\u001B[0m\u001B[0;34m\u001B[0m\u001B[0m\n",
      "\u001B[0;31mKeyboardInterrupt\u001B[0m: "
     ]
    }
   ],
   "source": [
    "# Рассчитаем усредненный по всему датасету relative CER / WER для BEAM_SEARCH варианта декодирования\n",
    "# Для рассчета используем beam_size = 1 !!!\n",
    "# Hint : стоит использовать mpire для ускорения\n",
    "cer_bs1 = 0\n",
    "wer_bs1 = 0\n",
    "\n",
    "# for i in range(len(dataset)):\n",
    "#   predict = ctc_decoder.beam_search_decode(dataset[i][0][0], beam_size=1)\n",
    "#   ground_truth = dataset[i][1]\n",
    "#   cer_bs1 += oracle_relative_cer(ground_truth, predict)\n",
    "#   wer_bs1 += oracle_relative_wer(ground_truth, predict)\n",
    "results = [beam_search_errors(0)]\n",
    "# with WorkerPool(n_jobs=forks_num) as pool:\n",
    "#   results = pool.map(beam_search_errors, range(forks_num), progress_bar=True)\n",
    "\n",
    "cer_bs1 = sum([result[0] for result in results]) / len(dataset)\n",
    "wer_bs1 = sum([result[1] for result in results]) / len(dataset)\n",
    "\n",
    "print(f\"CER in bs decoding : {cer_bs1}\")\n",
    "print(f\"WER in bs decoding : {wer_bs1}\")"
   ]
  },
  {
   "cell_type": "code",
   "execution_count": 19,
   "metadata": {
    "id": "c4A6RcAdUH8t"
   },
   "outputs": [
    {
     "ename": "AssertionError",
     "evalue": "\nArrays are not almost equal to 4 decimals\n ACTUAL: 0.040561903129852875\n DESIRED: 0",
     "output_type": "error",
     "traceback": [
      "\u001B[0;31m---------------------------------------------------------------------------\u001B[0m",
      "\u001B[0;31mAssertionError\u001B[0m                            Traceback (most recent call last)",
      "\u001B[0;32m/var/folders/04/7ltt_n9d1z14zmw8_ky4jc5h0000gn/T/ipykernel_6130/115155089.py\u001B[0m in \u001B[0;36m<module>\u001B[0;34m\u001B[0m\n\u001B[1;32m      1\u001B[0m \u001B[0;31m# Проверим, что мы нигде не ошиблись в написании кода beam_search_decode\u001B[0m\u001B[0;34m\u001B[0m\u001B[0;34m\u001B[0m\u001B[0m\n\u001B[0;32m----> 2\u001B[0;31m \u001B[0mnp\u001B[0m\u001B[0;34m.\u001B[0m\u001B[0mtesting\u001B[0m\u001B[0;34m.\u001B[0m\u001B[0massert_almost_equal\u001B[0m\u001B[0;34m(\u001B[0m\u001B[0mcer_argmax\u001B[0m\u001B[0;34m,\u001B[0m \u001B[0mcer_bs1\u001B[0m\u001B[0;34m,\u001B[0m \u001B[0mdecimal\u001B[0m\u001B[0;34m=\u001B[0m\u001B[0;36m4\u001B[0m\u001B[0;34m)\u001B[0m\u001B[0;34m\u001B[0m\u001B[0;34m\u001B[0m\u001B[0m\n\u001B[0m\u001B[1;32m      3\u001B[0m \u001B[0mnp\u001B[0m\u001B[0;34m.\u001B[0m\u001B[0mtesting\u001B[0m\u001B[0;34m.\u001B[0m\u001B[0massert_almost_equal\u001B[0m\u001B[0;34m(\u001B[0m\u001B[0mwer_argmax\u001B[0m\u001B[0;34m,\u001B[0m \u001B[0mwer_bs1\u001B[0m\u001B[0;34m,\u001B[0m \u001B[0mdecimal\u001B[0m\u001B[0;34m=\u001B[0m\u001B[0;36m4\u001B[0m\u001B[0;34m)\u001B[0m\u001B[0;34m\u001B[0m\u001B[0;34m\u001B[0m\u001B[0m\n",
      "\u001B[0;32m~/opt/anaconda3/lib/python3.9/site-packages/numpy/testing/_private/utils.py\u001B[0m in \u001B[0;36massert_almost_equal\u001B[0;34m(actual, desired, decimal, err_msg, verbose)\u001B[0m\n\u001B[1;32m    595\u001B[0m         \u001B[0;32mpass\u001B[0m\u001B[0;34m\u001B[0m\u001B[0;34m\u001B[0m\u001B[0m\n\u001B[1;32m    596\u001B[0m     \u001B[0;32mif\u001B[0m \u001B[0mabs\u001B[0m\u001B[0;34m(\u001B[0m\u001B[0mdesired\u001B[0m \u001B[0;34m-\u001B[0m \u001B[0mactual\u001B[0m\u001B[0;34m)\u001B[0m \u001B[0;34m>=\u001B[0m \u001B[0;36m1.5\u001B[0m \u001B[0;34m*\u001B[0m \u001B[0;36m10.0\u001B[0m\u001B[0;34m**\u001B[0m\u001B[0;34m(\u001B[0m\u001B[0;34m-\u001B[0m\u001B[0mdecimal\u001B[0m\u001B[0;34m)\u001B[0m\u001B[0;34m:\u001B[0m\u001B[0;34m\u001B[0m\u001B[0;34m\u001B[0m\u001B[0m\n\u001B[0;32m--> 597\u001B[0;31m         \u001B[0;32mraise\u001B[0m \u001B[0mAssertionError\u001B[0m\u001B[0;34m(\u001B[0m\u001B[0m_build_err_msg\u001B[0m\u001B[0;34m(\u001B[0m\u001B[0;34m)\u001B[0m\u001B[0;34m)\u001B[0m\u001B[0;34m\u001B[0m\u001B[0;34m\u001B[0m\u001B[0m\n\u001B[0m\u001B[1;32m    598\u001B[0m \u001B[0;34m\u001B[0m\u001B[0m\n\u001B[1;32m    599\u001B[0m \u001B[0;34m\u001B[0m\u001B[0m\n",
      "\u001B[0;31mAssertionError\u001B[0m: \nArrays are not almost equal to 4 decimals\n ACTUAL: 0.040561903129852875\n DESIRED: 0"
     ]
    }
   ],
   "source": [
    "# Проверим, что мы нигде не ошиблись в написании кода beam_search_decode\n",
    "np.testing.assert_almost_equal(cer_argmax, cer_bs1, decimal=4)\n",
    "np.testing.assert_almost_equal(wer_argmax, wer_bs1, decimal=4)"
   ]
  },
  {
   "cell_type": "code",
   "source": [
    "dataset.shape"
   ],
   "metadata": {
    "id": "_PLccO7s4-qm"
   },
   "execution_count": 20,
   "outputs": [
    {
     "ename": "AttributeError",
     "evalue": "'dict' object has no attribute 'shape'",
     "output_type": "error",
     "traceback": [
      "\u001B[0;31m---------------------------------------------------------------------------\u001B[0m",
      "\u001B[0;31mAttributeError\u001B[0m                            Traceback (most recent call last)",
      "\u001B[0;32m/var/folders/04/7ltt_n9d1z14zmw8_ky4jc5h0000gn/T/ipykernel_6130/3511907733.py\u001B[0m in \u001B[0;36m<module>\u001B[0;34m\u001B[0m\n\u001B[0;32m----> 1\u001B[0;31m \u001B[0mdataset\u001B[0m\u001B[0;34m.\u001B[0m\u001B[0mshape\u001B[0m\u001B[0;34m\u001B[0m\u001B[0;34m\u001B[0m\u001B[0m\n\u001B[0m",
      "\u001B[0;31mAttributeError\u001B[0m: 'dict' object has no attribute 'shape'"
     ]
    }
   ]
  },
  {
   "cell_type": "code",
   "execution_count": 21,
   "metadata": {
    "id": "SqaAmOjkez4v"
   },
   "outputs": [],
   "source": [
    "forks_num = 200\n",
    "def beam_search_errors_top1(fork_id):\n",
    "  oracle_cer_bs1 = 0\n",
    "  oracle_wer_bs1 = 0\n",
    "  top1_cer = 0\n",
    "  top1_wer = 0\n",
    "  left = int(len(dataset)*fork_id/forks_num)\n",
    "  right = int(len(dataset)*(fork_id+1)/forks_num)\n",
    "\n",
    "  left = 0\n",
    "  right = len(dataset)\n",
    "  for i in tqdm(range(left, right)):\n",
    "    predict = ctc_decoder.beam_search_decode(dataset[i][0][0], beam_size=beam_size)\n",
    "    ground_truth = dataset[i][1]\n",
    "    top1_cer += relative_cer(ground_truth, predict[0])\n",
    "    top1_wer += relative_wer(ground_truth, predict[0])\n",
    "    oracle_cer_bs1 += oracle_relative_cer(ground_truth, predict)\n",
    "    oracle_wer_bs1 += oracle_relative_wer(ground_truth, predict)\n",
    "  return oracle_cer_bs1, oracle_wer_bs1, top1_cer, top1_wer"
   ]
  },
  {
   "cell_type": "code",
   "execution_count": 23,
   "metadata": {
    "id": "Xd6zxzXUUV2y"
   },
   "outputs": [
    {
     "data": {
      "text/plain": "  0%|          | 0/9630 [00:00<?, ?it/s]",
      "application/vnd.jupyter.widget-view+json": {
       "version_major": 2,
       "version_minor": 0,
       "model_id": "9c51b75fa906459e946db83cdaf58eb1"
      }
     },
     "metadata": {},
     "output_type": "display_data"
    },
    {
     "ename": "KeyboardInterrupt",
     "evalue": "",
     "output_type": "error",
     "traceback": [
      "\u001B[0;31m---------------------------------------------------------------------------\u001B[0m",
      "\u001B[0;31mKeyboardInterrupt\u001B[0m                         Traceback (most recent call last)",
      "\u001B[0;32m/var/folders/04/7ltt_n9d1z14zmw8_ky4jc5h0000gn/T/ipykernel_6130/1646182999.py\u001B[0m in \u001B[0;36m<module>\u001B[0;34m\u001B[0m\n\u001B[1;32m     12\u001B[0m     \u001B[0;31m# with WorkerPool(n_jobs=forks_num) as pool:\u001B[0m\u001B[0;34m\u001B[0m\u001B[0;34m\u001B[0m\u001B[0m\n\u001B[1;32m     13\u001B[0m       \u001B[0;31m# results = pool.map(beam_search_errors_top1, range(forks_num), progress_bar=True)\u001B[0m\u001B[0;34m\u001B[0m\u001B[0;34m\u001B[0m\u001B[0m\n\u001B[0;32m---> 14\u001B[0;31m     \u001B[0mresults\u001B[0m \u001B[0;34m=\u001B[0m \u001B[0;34m[\u001B[0m\u001B[0mbeam_search_errors_top1\u001B[0m\u001B[0;34m(\u001B[0m\u001B[0;36m0\u001B[0m\u001B[0;34m)\u001B[0m\u001B[0;34m]\u001B[0m\u001B[0;34m\u001B[0m\u001B[0;34m\u001B[0m\u001B[0m\n\u001B[0m\u001B[1;32m     15\u001B[0m \u001B[0;34m\u001B[0m\u001B[0m\n\u001B[1;32m     16\u001B[0m     \u001B[0moracle_cer\u001B[0m \u001B[0;34m=\u001B[0m \u001B[0msum\u001B[0m\u001B[0;34m(\u001B[0m\u001B[0;34m[\u001B[0m\u001B[0mresult\u001B[0m\u001B[0;34m[\u001B[0m\u001B[0;36m0\u001B[0m\u001B[0;34m]\u001B[0m \u001B[0;32mfor\u001B[0m \u001B[0mresult\u001B[0m \u001B[0;32min\u001B[0m \u001B[0mresults\u001B[0m\u001B[0;34m]\u001B[0m\u001B[0;34m)\u001B[0m \u001B[0;34m/\u001B[0m \u001B[0mlen\u001B[0m\u001B[0;34m(\u001B[0m\u001B[0mdataset\u001B[0m\u001B[0;34m)\u001B[0m\u001B[0;34m\u001B[0m\u001B[0;34m\u001B[0m\u001B[0m\n",
      "\u001B[0;32m/var/folders/04/7ltt_n9d1z14zmw8_ky4jc5h0000gn/T/ipykernel_6130/1095206648.py\u001B[0m in \u001B[0;36mbeam_search_errors_top1\u001B[0;34m(fork_id)\u001B[0m\n\u001B[1;32m     11\u001B[0m   \u001B[0mright\u001B[0m \u001B[0;34m=\u001B[0m \u001B[0mlen\u001B[0m\u001B[0;34m(\u001B[0m\u001B[0mdataset\u001B[0m\u001B[0;34m)\u001B[0m\u001B[0;34m\u001B[0m\u001B[0;34m\u001B[0m\u001B[0m\n\u001B[1;32m     12\u001B[0m   \u001B[0;32mfor\u001B[0m \u001B[0mi\u001B[0m \u001B[0;32min\u001B[0m \u001B[0mtqdm\u001B[0m\u001B[0;34m(\u001B[0m\u001B[0mrange\u001B[0m\u001B[0;34m(\u001B[0m\u001B[0mleft\u001B[0m\u001B[0;34m,\u001B[0m \u001B[0mright\u001B[0m\u001B[0;34m)\u001B[0m\u001B[0;34m)\u001B[0m\u001B[0;34m:\u001B[0m\u001B[0;34m\u001B[0m\u001B[0;34m\u001B[0m\u001B[0m\n\u001B[0;32m---> 13\u001B[0;31m     \u001B[0mpredict\u001B[0m \u001B[0;34m=\u001B[0m \u001B[0mctc_decoder\u001B[0m\u001B[0;34m.\u001B[0m\u001B[0mbeam_search_decode\u001B[0m\u001B[0;34m(\u001B[0m\u001B[0mdataset\u001B[0m\u001B[0;34m[\u001B[0m\u001B[0mi\u001B[0m\u001B[0;34m]\u001B[0m\u001B[0;34m[\u001B[0m\u001B[0;36m0\u001B[0m\u001B[0;34m]\u001B[0m\u001B[0;34m[\u001B[0m\u001B[0;36m0\u001B[0m\u001B[0;34m]\u001B[0m\u001B[0;34m,\u001B[0m \u001B[0mbeam_size\u001B[0m\u001B[0;34m=\u001B[0m\u001B[0mbeam_size\u001B[0m\u001B[0;34m)\u001B[0m\u001B[0;34m\u001B[0m\u001B[0;34m\u001B[0m\u001B[0m\n\u001B[0m\u001B[1;32m     14\u001B[0m     \u001B[0mground_truth\u001B[0m \u001B[0;34m=\u001B[0m \u001B[0mdataset\u001B[0m\u001B[0;34m[\u001B[0m\u001B[0mi\u001B[0m\u001B[0;34m]\u001B[0m\u001B[0;34m[\u001B[0m\u001B[0;36m1\u001B[0m\u001B[0;34m]\u001B[0m\u001B[0;34m\u001B[0m\u001B[0;34m\u001B[0m\u001B[0m\n\u001B[1;32m     15\u001B[0m     \u001B[0mtop1_cer\u001B[0m \u001B[0;34m+=\u001B[0m \u001B[0mrelative_cer\u001B[0m\u001B[0;34m(\u001B[0m\u001B[0mground_truth\u001B[0m\u001B[0;34m,\u001B[0m \u001B[0mpredict\u001B[0m\u001B[0;34m[\u001B[0m\u001B[0;36m0\u001B[0m\u001B[0;34m]\u001B[0m\u001B[0;34m)\u001B[0m\u001B[0;34m\u001B[0m\u001B[0;34m\u001B[0m\u001B[0m\n",
      "\u001B[0;32m/var/folders/04/7ltt_n9d1z14zmw8_ky4jc5h0000gn/T/ipykernel_6130/281090274.py\u001B[0m in \u001B[0;36mbeam_search_decode\u001B[0;34m(self, ctc_logits, beam_size)\u001B[0m\n\u001B[1;32m     52\u001B[0m             \u001B[0mseq\u001B[0m\u001B[0;34m,\u001B[0m \u001B[0mscore\u001B[0m \u001B[0;34m=\u001B[0m \u001B[0msequences\u001B[0m\u001B[0;34m[\u001B[0m\u001B[0mi\u001B[0m\u001B[0;34m]\u001B[0m\u001B[0;34m\u001B[0m\u001B[0;34m\u001B[0m\u001B[0m\n\u001B[1;32m     53\u001B[0m             \u001B[0;32mfor\u001B[0m \u001B[0mj\u001B[0m \u001B[0;32min\u001B[0m \u001B[0mrange\u001B[0m\u001B[0;34m(\u001B[0m\u001B[0mlen\u001B[0m\u001B[0;34m(\u001B[0m\u001B[0mrow\u001B[0m\u001B[0;34m)\u001B[0m\u001B[0;34m)\u001B[0m\u001B[0;34m:\u001B[0m\u001B[0;34m\u001B[0m\u001B[0;34m\u001B[0m\u001B[0m\n\u001B[0;32m---> 54\u001B[0;31m               \u001B[0mcandidate\u001B[0m \u001B[0;34m=\u001B[0m \u001B[0;34m[\u001B[0m\u001B[0mseq\u001B[0m \u001B[0;34m+\u001B[0m \u001B[0;34m[\u001B[0m\u001B[0mj\u001B[0m\u001B[0;34m]\u001B[0m\u001B[0;34m,\u001B[0m \u001B[0mscore\u001B[0m \u001B[0;34m-\u001B[0m \u001B[0mlog\u001B[0m\u001B[0;34m(\u001B[0m\u001B[0mrow\u001B[0m\u001B[0;34m[\u001B[0m\u001B[0mj\u001B[0m\u001B[0;34m]\u001B[0m\u001B[0;34m)\u001B[0m\u001B[0;34m]\u001B[0m\u001B[0;34m\u001B[0m\u001B[0;34m\u001B[0m\u001B[0m\n\u001B[0m\u001B[1;32m     55\u001B[0m               \u001B[0mall_candidates\u001B[0m\u001B[0;34m.\u001B[0m\u001B[0mappend\u001B[0m\u001B[0;34m(\u001B[0m\u001B[0mcandidate\u001B[0m\u001B[0;34m)\u001B[0m\u001B[0;34m\u001B[0m\u001B[0;34m\u001B[0m\u001B[0m\n\u001B[1;32m     56\u001B[0m                 \u001B[0;31m# order all candidates by score\u001B[0m\u001B[0;34m\u001B[0m\u001B[0;34m\u001B[0m\u001B[0m\n",
      "\u001B[0;31mKeyboardInterrupt\u001B[0m: "
     ]
    }
   ],
   "source": [
    "# Ок, значит все хорошо и можно приступить к построению графиков\n",
    "# зависимости усредненного CER / WER + oracle от beam_size.\n",
    "\n",
    "# Для этого будем использовать beam_size = [4, 8, 16, 32].\n",
    "# Заполним словарик усредненных по датасету relative wer / cer наиболее вероятной гипотезы - top1_wer, top1_cer.\n",
    "# Так же добавим в словарик relative oracle wer / cer - orcale_wer, oracle_cer\n",
    "graph_results = {'oracle_wer':[], 'oracle_cer':[], 'top1_wer':[], 'top1_cer': []}\n",
    "beam_sizes = [4, 8, 16, 32]\n",
    "for beam_size in beam_sizes:\n",
    "    top1_wer, top1_cer, oracle_wer, oracle_cer = 0, 0, 0, 0\n",
    "\n",
    "    # with WorkerPool(n_jobs=forks_num) as pool:\n",
    "      # results = pool.map(beam_search_errors_top1, range(forks_num), progress_bar=True)\n",
    "    results = [beam_search_errors_top1(0)]\n",
    "\n",
    "    oracle_cer = sum([result[0] for result in results]) / len(dataset)\n",
    "    oracle_wer = sum([result[1] for result in results]) / len(dataset)\n",
    "    top1_cer = sum([result[2] for result in results]) / len(dataset)\n",
    "    top1_wer = sum([result[3] for result in results]) / len(dataset)\n",
    "    \n",
    "    # Здесь должен быть ваш код, который будет оцениваться\n",
    "    graph_results['top1_cer'].append(top1_cer)\n",
    "    graph_results['top1_wer'].append(top1_wer)\n",
    "    graph_results['oracle_cer'].append(oracle_cer)\n",
    "    graph_results['oracle_wer'].append(oracle_wer)"
   ]
  },
  {
   "cell_type": "code",
   "execution_count": null,
   "metadata": {
    "id": "sCBJvXSAUV0h"
   },
   "outputs": [],
   "source": [
    "fig, axs = plt.subplots(1, 2, figsize=(10, 5))\n",
    "fig.suptitle('Result of beam_search experiments')\n",
    "\n",
    "axs[0].axhline(y = cer_argmax, color = 'r', linestyle = '-', label='cer_argmax')\n",
    "axs[0].plot(beam_sizes, graph_results['top1_cer'], '--bo', label='top1_cer') \n",
    "axs[0].plot(beam_sizes, graph_results['oracle_cer'], '--go', label='oracle_cer')\n",
    "axs[0].set_title('CER')\n",
    "axs[0].legend()\n",
    "\n",
    "axs[1].axhline(y = wer_argmax, color = 'r', linestyle = '-', label='wer_argmax')\n",
    "axs[1].plot(beam_sizes, graph_results['top1_wer'], '--bo', label='top1_wer')\n",
    "axs[1].plot(beam_sizes, graph_results['oracle_wer'], '--go', label='oracle_wer')\n",
    "axs[1].set_title('WER')\n",
    "axs[1].legend()"
   ]
  },
  {
   "cell_type": "markdown",
   "metadata": {
    "id": "FAJkhT3fUm_t"
   },
   "source": [
    "## Вопрос №2: \n",
    "## - Сделайте выводы относительно поведения CER / WER при увеличении размера beam_size? \n",
    "## - Как соотносятся значения relative CER / WER и ORACLE варианты в beam_search ? \n",
    "## - Почему они так соотносятся ? \n",
    "## - Как можно улучшить beam search ?"
   ]
  },
  {
   "cell_type": "markdown",
   "metadata": {
    "id": "4qnt8VjzUpCL"
   },
   "source": [
    "## Ответ: \n",
    "### - {запишите свои ответы, по пунктам они будут оцениваться}"
   ]
  },
  {
   "cell_type": "code",
   "execution_count": 14,
   "outputs": [],
   "source": [
    "def some_func(self):\n",
    "    print(self.a)"
   ],
   "metadata": {
    "collapsed": false,
    "pycharm": {
     "name": "#%%\n"
    }
   }
  },
  {
   "cell_type": "code",
   "execution_count": 15,
   "outputs": [],
   "source": [
    "foo = type('Foo', (object, ), {'a': 1, 'some_func': some_func})"
   ],
   "metadata": {
    "collapsed": false,
    "pycharm": {
     "name": "#%%\n"
    }
   }
  },
  {
   "cell_type": "code",
   "execution_count": 19,
   "outputs": [
    {
     "data": {
      "text/plain": "__main__.Foo"
     },
     "execution_count": 19,
     "metadata": {},
     "output_type": "execute_result"
    }
   ],
   "source": [
    "foo"
   ],
   "metadata": {
    "collapsed": false,
    "pycharm": {
     "name": "#%%\n"
    }
   }
  },
  {
   "cell_type": "code",
   "execution_count": 18,
   "outputs": [
    {
     "name": "stdout",
     "output_type": "stream",
     "text": [
      "1\n"
     ]
    }
   ],
   "source": [
    "foo.some_func(foo)"
   ],
   "metadata": {
    "collapsed": false,
    "pycharm": {
     "name": "#%%\n"
    }
   }
  },
  {
   "cell_type": "code",
   "execution_count": 21,
   "outputs": [
    {
     "data": {
      "text/plain": "object"
     },
     "execution_count": 21,
     "metadata": {},
     "output_type": "execute_result"
    }
   ],
   "source": [
    "foo.__base__"
   ],
   "metadata": {
    "collapsed": false,
    "pycharm": {
     "name": "#%%\n"
    }
   }
  },
  {
   "cell_type": "code",
   "execution_count": 22,
   "outputs": [
    {
     "data": {
      "text/plain": "True"
     },
     "execution_count": 22,
     "metadata": {},
     "output_type": "execute_result"
    }
   ],
   "source": [
    "isinstance(foo, object)"
   ],
   "metadata": {
    "collapsed": false,
    "pycharm": {
     "name": "#%%\n"
    }
   }
  },
  {
   "cell_type": "code",
   "execution_count": 23,
   "outputs": [
    {
     "data": {
      "text/plain": "True"
     },
     "execution_count": 23,
     "metadata": {},
     "output_type": "execute_result"
    }
   ],
   "source": [
    "issubclass(foo, object)"
   ],
   "metadata": {
    "collapsed": false,
    "pycharm": {
     "name": "#%%\n"
    }
   }
  },
  {
   "cell_type": "code",
   "execution_count": 24,
   "outputs": [
    {
     "data": {
      "text/plain": "True"
     },
     "execution_count": 24,
     "metadata": {},
     "output_type": "execute_result"
    }
   ],
   "source": [
    "isinstance(foo, type)"
   ],
   "metadata": {
    "collapsed": false,
    "pycharm": {
     "name": "#%%\n"
    }
   }
  },
  {
   "cell_type": "code",
   "execution_count": 27,
   "outputs": [
    {
     "data": {
      "text/plain": "(True, True)"
     },
     "execution_count": 27,
     "metadata": {},
     "output_type": "execute_result"
    }
   ],
   "source": [
    "isinstance(type, object), isinstance(object, type)"
   ],
   "metadata": {
    "collapsed": false,
    "pycharm": {
     "name": "#%%\n"
    }
   }
  },
  {
   "cell_type": "code",
   "execution_count": 29,
   "outputs": [],
   "source": [
    "def deco_func(inp_func):\n",
    "    def inner_func():\n",
    "        print('deco')\n",
    "        inp_func()\n",
    "    return inner_func"
   ],
   "metadata": {
    "collapsed": false,
    "pycharm": {
     "name": "#%%\n"
    }
   }
  },
  {
   "cell_type": "code",
   "execution_count": 31,
   "outputs": [],
   "source": [
    "@deco_func\n",
    "def some_func():\n",
    "    print('some_func')"
   ],
   "metadata": {
    "collapsed": false,
    "pycharm": {
     "name": "#%%\n"
    }
   }
  },
  {
   "cell_type": "code",
   "execution_count": 33,
   "outputs": [
    {
     "name": "stdout",
     "output_type": "stream",
     "text": [
      "deco\n",
      "some_func\n"
     ]
    }
   ],
   "source": [
    "some_func()"
   ],
   "metadata": {
    "collapsed": false,
    "pycharm": {
     "name": "#%%\n"
    }
   }
  },
  {
   "cell_type": "code",
   "execution_count": null,
   "outputs": [],
   "source": [],
   "metadata": {
    "collapsed": false,
    "pycharm": {
     "name": "#%%\n"
    }
   }
  }
 ],
 "metadata": {
  "colab": {
   "provenance": []
  },
  "kernelspec": {
   "display_name": "Python 3",
   "name": "python3"
  },
  "language_info": {
   "name": "python"
  },
  "widgets": {
   "application/vnd.jupyter.widget-state+json": {
    "e3ef727159ff47ef8bd139b03f8d763e": {
     "model_module": "@jupyter-widgets/controls",
     "model_name": "HBoxModel",
     "model_module_version": "1.5.0",
     "state": {
      "_dom_classes": [],
      "_model_module": "@jupyter-widgets/controls",
      "_model_module_version": "1.5.0",
      "_model_name": "HBoxModel",
      "_view_count": null,
      "_view_module": "@jupyter-widgets/controls",
      "_view_module_version": "1.5.0",
      "_view_name": "HBoxView",
      "box_style": "",
      "children": [
       "IPY_MODEL_74abc83b391044c7aa8a9b92f2d03357",
       "IPY_MODEL_3f5cdc6eee8c428887e70e31de281009",
       "IPY_MODEL_15d0ef23a5e4402895904a4e75382f6a"
      ],
      "layout": "IPY_MODEL_ff84521150a04522a9964249748f9c28"
     }
    },
    "74abc83b391044c7aa8a9b92f2d03357": {
     "model_module": "@jupyter-widgets/controls",
     "model_name": "HTMLModel",
     "model_module_version": "1.5.0",
     "state": {
      "_dom_classes": [],
      "_model_module": "@jupyter-widgets/controls",
      "_model_module_version": "1.5.0",
      "_model_name": "HTMLModel",
      "_view_count": null,
      "_view_module": "@jupyter-widgets/controls",
      "_view_module_version": "1.5.0",
      "_view_name": "HTMLView",
      "description": "",
      "description_tooltip": null,
      "layout": "IPY_MODEL_4aa49c75a337465aa6ce61d3a410313d",
      "placeholder": "​",
      "style": "IPY_MODEL_f2b0ec51246442c1b2739f477f85d597",
      "value": "100%"
     }
    },
    "3f5cdc6eee8c428887e70e31de281009": {
     "model_module": "@jupyter-widgets/controls",
     "model_name": "FloatProgressModel",
     "model_module_version": "1.5.0",
     "state": {
      "_dom_classes": [],
      "_model_module": "@jupyter-widgets/controls",
      "_model_module_version": "1.5.0",
      "_model_name": "FloatProgressModel",
      "_view_count": null,
      "_view_module": "@jupyter-widgets/controls",
      "_view_module_version": "1.5.0",
      "_view_name": "ProgressView",
      "bar_style": "success",
      "description": "",
      "description_tooltip": null,
      "layout": "IPY_MODEL_6778b44c74344eadafe43a6e4ace638d",
      "max": 50,
      "min": 0,
      "orientation": "horizontal",
      "style": "IPY_MODEL_ccc07fa0a5f646209b0660f0ff56f77c",
      "value": 50
     }
    },
    "15d0ef23a5e4402895904a4e75382f6a": {
     "model_module": "@jupyter-widgets/controls",
     "model_name": "HTMLModel",
     "model_module_version": "1.5.0",
     "state": {
      "_dom_classes": [],
      "_model_module": "@jupyter-widgets/controls",
      "_model_module_version": "1.5.0",
      "_model_name": "HTMLModel",
      "_view_count": null,
      "_view_module": "@jupyter-widgets/controls",
      "_view_module_version": "1.5.0",
      "_view_name": "HTMLView",
      "description": "",
      "description_tooltip": null,
      "layout": "IPY_MODEL_479da48233e3417889975bf967ae1f54",
      "placeholder": "​",
      "style": "IPY_MODEL_5ab975ae42264254aca4e267f69b3452",
      "value": " 50/50 [01:56&lt;00:00,  6.64it/s]"
     }
    },
    "ff84521150a04522a9964249748f9c28": {
     "model_module": "@jupyter-widgets/base",
     "model_name": "LayoutModel",
     "model_module_version": "1.2.0",
     "state": {
      "_model_module": "@jupyter-widgets/base",
      "_model_module_version": "1.2.0",
      "_model_name": "LayoutModel",
      "_view_count": null,
      "_view_module": "@jupyter-widgets/base",
      "_view_module_version": "1.2.0",
      "_view_name": "LayoutView",
      "align_content": null,
      "align_items": null,
      "align_self": null,
      "border": null,
      "bottom": null,
      "display": "inline-flex",
      "flex": null,
      "flex_flow": "row wrap",
      "grid_area": null,
      "grid_auto_columns": null,
      "grid_auto_flow": null,
      "grid_auto_rows": null,
      "grid_column": null,
      "grid_gap": null,
      "grid_row": null,
      "grid_template_areas": null,
      "grid_template_columns": null,
      "grid_template_rows": null,
      "height": null,
      "justify_content": null,
      "justify_items": null,
      "left": null,
      "margin": null,
      "max_height": null,
      "max_width": null,
      "min_height": null,
      "min_width": null,
      "object_fit": null,
      "object_position": null,
      "order": null,
      "overflow": null,
      "overflow_x": null,
      "overflow_y": null,
      "padding": null,
      "right": null,
      "top": null,
      "visibility": null,
      "width": "100%"
     }
    },
    "4aa49c75a337465aa6ce61d3a410313d": {
     "model_module": "@jupyter-widgets/base",
     "model_name": "LayoutModel",
     "model_module_version": "1.2.0",
     "state": {
      "_model_module": "@jupyter-widgets/base",
      "_model_module_version": "1.2.0",
      "_model_name": "LayoutModel",
      "_view_count": null,
      "_view_module": "@jupyter-widgets/base",
      "_view_module_version": "1.2.0",
      "_view_name": "LayoutView",
      "align_content": null,
      "align_items": null,
      "align_self": null,
      "border": null,
      "bottom": null,
      "display": null,
      "flex": null,
      "flex_flow": null,
      "grid_area": null,
      "grid_auto_columns": null,
      "grid_auto_flow": null,
      "grid_auto_rows": null,
      "grid_column": null,
      "grid_gap": null,
      "grid_row": null,
      "grid_template_areas": null,
      "grid_template_columns": null,
      "grid_template_rows": null,
      "height": null,
      "justify_content": null,
      "justify_items": null,
      "left": null,
      "margin": null,
      "max_height": null,
      "max_width": null,
      "min_height": null,
      "min_width": null,
      "object_fit": null,
      "object_position": null,
      "order": null,
      "overflow": null,
      "overflow_x": null,
      "overflow_y": null,
      "padding": null,
      "right": null,
      "top": null,
      "visibility": null,
      "width": null
     }
    },
    "f2b0ec51246442c1b2739f477f85d597": {
     "model_module": "@jupyter-widgets/controls",
     "model_name": "DescriptionStyleModel",
     "model_module_version": "1.5.0",
     "state": {
      "_model_module": "@jupyter-widgets/controls",
      "_model_module_version": "1.5.0",
      "_model_name": "DescriptionStyleModel",
      "_view_count": null,
      "_view_module": "@jupyter-widgets/base",
      "_view_module_version": "1.2.0",
      "_view_name": "StyleView",
      "description_width": ""
     }
    },
    "6778b44c74344eadafe43a6e4ace638d": {
     "model_module": "@jupyter-widgets/base",
     "model_name": "LayoutModel",
     "model_module_version": "1.2.0",
     "state": {
      "_model_module": "@jupyter-widgets/base",
      "_model_module_version": "1.2.0",
      "_model_name": "LayoutModel",
      "_view_count": null,
      "_view_module": "@jupyter-widgets/base",
      "_view_module_version": "1.2.0",
      "_view_name": "LayoutView",
      "align_content": null,
      "align_items": null,
      "align_self": null,
      "border": null,
      "bottom": null,
      "display": null,
      "flex": "2",
      "flex_flow": null,
      "grid_area": null,
      "grid_auto_columns": null,
      "grid_auto_flow": null,
      "grid_auto_rows": null,
      "grid_column": null,
      "grid_gap": null,
      "grid_row": null,
      "grid_template_areas": null,
      "grid_template_columns": null,
      "grid_template_rows": null,
      "height": null,
      "justify_content": null,
      "justify_items": null,
      "left": null,
      "margin": null,
      "max_height": null,
      "max_width": null,
      "min_height": null,
      "min_width": null,
      "object_fit": null,
      "object_position": null,
      "order": null,
      "overflow": null,
      "overflow_x": null,
      "overflow_y": null,
      "padding": null,
      "right": null,
      "top": null,
      "visibility": null,
      "width": null
     }
    },
    "ccc07fa0a5f646209b0660f0ff56f77c": {
     "model_module": "@jupyter-widgets/controls",
     "model_name": "ProgressStyleModel",
     "model_module_version": "1.5.0",
     "state": {
      "_model_module": "@jupyter-widgets/controls",
      "_model_module_version": "1.5.0",
      "_model_name": "ProgressStyleModel",
      "_view_count": null,
      "_view_module": "@jupyter-widgets/base",
      "_view_module_version": "1.2.0",
      "_view_name": "StyleView",
      "bar_color": null,
      "description_width": ""
     }
    },
    "479da48233e3417889975bf967ae1f54": {
     "model_module": "@jupyter-widgets/base",
     "model_name": "LayoutModel",
     "model_module_version": "1.2.0",
     "state": {
      "_model_module": "@jupyter-widgets/base",
      "_model_module_version": "1.2.0",
      "_model_name": "LayoutModel",
      "_view_count": null,
      "_view_module": "@jupyter-widgets/base",
      "_view_module_version": "1.2.0",
      "_view_name": "LayoutView",
      "align_content": null,
      "align_items": null,
      "align_self": null,
      "border": null,
      "bottom": null,
      "display": null,
      "flex": null,
      "flex_flow": null,
      "grid_area": null,
      "grid_auto_columns": null,
      "grid_auto_flow": null,
      "grid_auto_rows": null,
      "grid_column": null,
      "grid_gap": null,
      "grid_row": null,
      "grid_template_areas": null,
      "grid_template_columns": null,
      "grid_template_rows": null,
      "height": null,
      "justify_content": null,
      "justify_items": null,
      "left": null,
      "margin": null,
      "max_height": null,
      "max_width": null,
      "min_height": null,
      "min_width": null,
      "object_fit": null,
      "object_position": null,
      "order": null,
      "overflow": null,
      "overflow_x": null,
      "overflow_y": null,
      "padding": null,
      "right": null,
      "top": null,
      "visibility": null,
      "width": null
     }
    },
    "5ab975ae42264254aca4e267f69b3452": {
     "model_module": "@jupyter-widgets/controls",
     "model_name": "DescriptionStyleModel",
     "model_module_version": "1.5.0",
     "state": {
      "_model_module": "@jupyter-widgets/controls",
      "_model_module_version": "1.5.0",
      "_model_name": "DescriptionStyleModel",
      "_view_count": null,
      "_view_module": "@jupyter-widgets/base",
      "_view_module_version": "1.2.0",
      "_view_name": "StyleView",
      "description_width": ""
     }
    }
   }
  }
 },
 "nbformat": 4,
 "nbformat_minor": 0
}